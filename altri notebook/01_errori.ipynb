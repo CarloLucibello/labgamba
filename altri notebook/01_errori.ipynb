{
 "cells": [
  {
   "cell_type": "code",
   "execution_count": 2,
   "metadata": {
    "collapsed": false
   },
   "outputs": [
    {
     "name": "stdout",
     "output_type": "stream",
     "text": [
      "Using matplotlib backend: Qt4Agg\n",
      "Populating the interactive namespace from numpy and matplotlib\n",
      "[ 2.29019284  1.88578794  2.18814533  1.92918902  2.08419078  1.9523727\n",
      "  1.99623532  2.0175995   2.28026252  1.82434684  2.22955043  1.63388959\n",
      "  2.38709382  1.90292219  2.23421276  1.86532842  2.10588509  2.03737665\n",
      "  1.62933873  2.05440595  2.23477061  2.05329747  1.64935477  2.12788985\n",
      "  1.7209945   1.96782294  2.02452315  1.92052802  1.96001902  1.92098302\n",
      "  2.10147105  2.58137724  1.91363173  2.09932237  2.02842672  2.14605451\n",
      "  1.81630105  1.76631918  2.21450041  2.09159872  1.95960762  2.03543923\n",
      "  1.55287495  2.14070963  1.86922256  2.08154667  1.63528339  1.72968655\n",
      "  2.25587585  1.82044939]\n"
     ]
    }
   ],
   "source": [
    "# Carico le librerie matematiche\n",
    "\n",
    "%pylab\n",
    "%matplotlib inline\n",
    "\n",
    "# TEORIA DEGLI ERRORI\n",
    "\n",
    "# Creo un vettore 'T' contenente N=50 numeri casuali (periodi misurati del pendolo)\n",
    "# con media 2.0 e deviazione standard sigma=0.5\n",
    "# NB: i comandi preceduti da '#' non vengono eseguiti\n",
    "\n",
    "N     = 50                                # numero di misure\n",
    "media = 2.0                               # media [s]\n",
    "sigma = 0.2                               # deviazione standard [s]\n",
    "T     = media + sigma * normal(size=N)    # genero un vettore contenente N dati \"simulati\" [s]\n",
    "print T"
   ]
  },
  {
   "cell_type": "code",
   "execution_count": 3,
   "metadata": {
    "collapsed": false
   },
   "outputs": [
    {
     "name": "stdout",
     "output_type": "stream",
     "text": [
      "[ 0.1  0.3  0.5  0.7  0.9  1.1  1.3  1.5  1.7  1.9  2.1  2.3  2.5  2.7  2.9\n",
      "  3.1  3.3  3.5  3.7  3.9]\n"
     ]
    },
    {
     "data": {
      "text/plain": [
       "[<matplotlib.lines.Line2D at 0x7f83b99d5dd0>]"
      ]
     },
     "execution_count": 3,
     "metadata": {},
     "output_type": "execute_result"
    },
    {
     "data": {
      "image/png": "[encoded data removed]",
      "text/plain": [
       "<matplotlib.figure.Figure at 0x7f83b99d5d90>"
      ]
     },
     "metadata": {},
     "output_type": "display_data"
    }
   ],
   "source": [
    "# Creo una suddivisione dell'intervallo [0,A] in classi di ampiezza dt=0.25\n",
    "# traslo inoltre tutte le classi di dt/2 per centrarle rispetto all'origine\n",
    "\n",
    "dT    = 0.2                              # ampiezza delle classi\n",
    "A     = 2*media                          # ampiezza dell'intervallo [0,A]\n",
    "bins  = arange(0,A,dT)+dT/2.             # estremi delle classi\n",
    "print bins\n",
    "\n",
    "# Creo un istogramma a partire dai dati simulati\n",
    "# (si noti la differenza tra normed=True e normed=False)\n",
    "hist(T,bins,normed=True)\n",
    "\n",
    "# Disegno il grafico della funzione a campana di Gauss\n",
    "\n",
    "x     = linspace(0,A,100)\n",
    "gauss = exp( -(x-media)**2 / (2*sigma**2) ) / sqrt(2*pi*sigma**2)\n",
    "plot(x,gauss,linewidth=4)\n",
    "\n",
    "# ESERCIZIO: verificare che la funzione di Gauss si sovrappone all'istogramma \n",
    "# tanto più esattamente quanto più grande viene scelto N e quanto più piccolo \n",
    "# viene scelto dT"
   ]
  },
  {
   "cell_type": "code",
   "execution_count": 7,
   "metadata": {
    "collapsed": false
   },
   "outputs": [
    {
     "name": "stdout",
     "output_type": "stream",
     "text": [
      "[ 4  5  6  7  8  9 10 11 12 13 14 15 16 17 18 19 20 21 22 23]\n",
      "[ 3.93619767  4.20799057  4.91020376  5.27243134  5.57029348  5.98231668\n",
      "  6.00057596  6.6100163   6.69531504  7.20494911  7.38105881  8.2183275\n",
      "  7.93065515  8.0287643   8.33320197  8.62259326  8.28616755  9.48651137\n",
      "  9.74526492  9.12936645]\n",
      "accelerazione di gravità misurata: g = 9.97\n"
     ]
    },
    {
     "data": {
      "image/png": "[encoded data removed]",
      "text/plain": [
       "<matplotlib.figure.Figure at 0x7f83b186a950>"
      ]
     },
     "metadata": {},
     "output_type": "display_data"
    }
   ],
   "source": [
    "g    = 9.81\n",
    "l    = arange(4,24)\n",
    "T    = 2*pi*sqrt(l/g) + 0.3*normal(size=20)\n",
    "\n",
    "print l\n",
    "print T\n",
    "\n",
    "plot(l,T**2,'o')\n",
    "\n",
    "xlabel(r'$l\\ [m]$')\n",
    "ylabel(r'$T^2\\ [s^2]$')\n",
    "\n",
    "from scipy.stats import linregress\n",
    "\n",
    "m,q,r,p,s=linregress(l,T**2)\n",
    "\n",
    "plot(l,m*l+q)\n",
    "\n",
    "gmes  = 4*pi**2/m\n",
    "print 'accelerazione di gravità misurata: g = %4.2f'%gmes"
   ]
  },
  {
   "cell_type": "code",
   "execution_count": 140,
   "metadata": {
    "collapsed": false
   },
   "outputs": [],
   "source": []
  }
 ],
 "metadata": {
  "kernelspec": {
   "display_name": "Python 2",
   "language": "python",
   "name": "python2"
  },
  "language_info": {
   "codemirror_mode": {
    "name": "ipython",
    "version": 2
   },
   "file_extension": ".py",
   "mimetype": "text/x-python",
   "name": "python",
   "nbconvert_exporter": "python",
   "pygments_lexer": "ipython2",
   "version": "2.7.13"
  }
 },
 "nbformat": 4,
 "nbformat_minor": 0
}
