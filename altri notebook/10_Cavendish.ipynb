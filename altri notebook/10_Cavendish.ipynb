{
 "cells": [
  {
   "cell_type": "code",
   "execution_count": 2,
   "metadata": {
    "collapsed": false
   },
   "outputs": [
    {
     "name": "stdout",
     "output_type": "stream",
     "text": [
      "Populating the interactive namespace from numpy and matplotlib\n",
      "158.04454149\n",
      "\n",
      "G(attuale)   = 6.67408e-11 N (m/kg)**2\n",
      "\n",
      "G(Cavendish) = 6.73909e-11 N (m/kg)**2\n",
      "\n",
      "G(Cavendish)/G(attuale) = 1.00974\n",
      "\n",
      "k = 5.87869e-05 N m\n",
      "\n",
      "F = 1.46976e-07 N\n",
      "\n"
     ]
    }
   ],
   "source": [
    "# Esperimento di Cavendish\n",
    "# http://en.wikipedia.org/wiki/Cavendish_experiment\n",
    "# http://en.wikipedia.org/wiki/Imperial_units\n",
    "# copper rods, leaden weights\n",
    "\n",
    "%pylab inline\n",
    "\n",
    "from scipy.constants import G\n",
    "\n",
    "inch   = 0.0254                      # [m]\n",
    "foot   = 0.3048                      # [m]\n",
    "grain  = 6.479891e-5                 # [kg]\n",
    "min    = 60.                         # [s]\n",
    "\n",
    "l      = 3*foot                      # [m] braccio \n",
    "r      = 1*inch\n",
    "R      = 4*inch\n",
    "err    = 0.05*inch\n",
    "T      = 15*min                      # first experiment, \"copper silvered wire\"    \n",
    "\n",
    "# \"the distance of the centres of the two balls from each other is 73.3 inches\"\n",
    "\n",
    "l0     = 73.3*inch  \n",
    "\n",
    "# \"the length of a pendulum vibrating seconds is 39.14\"\n",
    "\n",
    "l1     = 39.14*inch \n",
    "g1     = l1*(pi)**2\n",
    "l      = l0 - 2*r                    # lunghezza dell'asta\n",
    "m      = 0.73                        # [kg]  massa delle due sfere piccole\n",
    "\n",
    "# \"each of the weights weighs 2439000 grains\"\n",
    "\n",
    "M      = 2439000*grain               # [kg]  massa delle due sfere grandi\n",
    "ma     = 3.46                        # [kg]  massa dell'asta (dedotto)\n",
    "d      = 0.23                        # [m]   distanza tra i centri delle due sfere\n",
    "\n",
    "I      = 2*(l0/2)**2*m + 2*(2./5.)*m*r**2 + ma*l**2/12.  \n",
    "                                     # [N m] momento d'inerzia del pendolo di torsione (sferette più asta)\n",
    "    \n",
    "T      = 20.31*min                   # [s]   periodo di oscillazione del pendolo di torsione (osservato)\n",
    "dx     = 0.0041                      # [m]   scostamento delle masse (osservato)\n",
    "k      = I*(2*pi/T)**2               # [N m] modulo elastico (dedotto dal periodo di oscillazione del pendolo)\n",
    "F      = k*dx/(2*(l/2)**2)           # [N]   forza agente sulle masse\n",
    "GC     = d**2*F/(M*m)                # [N (m/kg)^2] costante di gravitazione universale misurata da Cavendish\n",
    "\n",
    "print M\n",
    "\n",
    "print '\\nG(attuale)   = %g N (m/kg)**2\\n\\nG(Cavendish) = %g N (m/kg)**2\\n\\nG(Cavendish)/G(attuale) = %g\\n\\nk = %g N m\\n\\nF = %g N\\n'%(G,GC,GC/G,k,F)"
   ]
  },
  {
   "cell_type": "code",
   "execution_count": 6,
   "metadata": {
    "collapsed": false
   },
   "outputs": [
    {
     "name": "stdout",
     "output_type": "stream",
     "text": [
      "\n",
      "G(attuale)   = 6.67408e-11 N (m/kg)**2\n",
      "\n",
      "G(Cavendish) = 3.2477e-10 N (m/kg)**2\n",
      "\n",
      "G(Cavendish)/G(attuale) = 4.86614\n",
      "\n",
      "k = 0.000283243 N m\n",
      "\n",
      "F = 7.08309e-07 N\n",
      "\n"
     ]
    }
   ],
   "source": [
    "# Esperimento di Cavendish\n",
    "# http://en.wikipedia.org/wiki/Cavendish_experiment\n",
    "# http://en.wikipedia.org/wiki/Cavendish_experiment\n",
    "# http://en.wikipedia.org/wiki/Imperial_units\n",
    "\n",
    "from scipy.constants import G     # importo il valore attualmente noto della costante di gravitazione universale\n",
    "\n",
    "inch   = 0.0254      # [m]\n",
    "foot   = 0.3048      # [m]\n",
    "grain  = 6.479891e-5 # [kg]\n",
    "\n",
    "# \"the distance of the centres of the two balls from each other is 73.3 inches\"\n",
    "l0 = 73.3*inch                       # [m]   distanza tra i centri delle due sfere\n",
    "l  = l0 - 2*r                        # [m]   lunghezza dell'asta\n",
    "r  = 0.0255                          # [m]   raggio delle due sfere piccole\n",
    "R  = 0.15                            # [m]   raggio delle due sfere grandi\n",
    "m  = 0.73                            # [kg]  massa delle due sfere piccole\n",
    "# \"each of the weights weighs 2439000 grains\"\n",
    "M  = 2439000*grain                             # [kg]  massa delle due sfere grandi\n",
    "ma = 0.*grain                            # [kg]  massa dell'asta (dedotto)\n",
    "d  = 0.23                            # [m]   distanza tra i centri delle due sfere\n",
    "I  = 2*(l0/2)**2*m + 2*(2./5.)*m*r**2 + ma*l**2/12.  \n",
    "                                     # [N m] momento d'inerzia del pendolo di torsione (sferette più asta)\n",
    "T  = 7*60                            # [s]   periodo di oscillazione del pendolo di torsione (osservato)\n",
    "dx = 0.0041                          # [m]   scostamento delle masse (osservato)\n",
    "k  = I*(2*pi/T)**2                   # [N m] modulo elastico (dedotto dal periodo di oscillazione del pendolo)\n",
    "F  = k*dx/(2*(l/2)**2)               # [N]   forza agente sulle masse\n",
    "GC = d**2*F/(M*m)                    # [N (m/kg)^2] costante di gravitazione universale misurata da Cavendish\n",
    "\n",
    "print '\\nG(attuale)   = %g N (m/kg)**2\\n\\nG(Cavendish) = %g N (m/kg)**2\\n\\nG(Cavendish)/G(attuale) = %g\\n\\nk = %g N m\\n\\nF = %g N\\n'%(G,GC,GC/G,k,F)"
   ]
  },
  {
   "cell_type": "code",
   "execution_count": null,
   "metadata": {
    "collapsed": false
   },
   "outputs": [],
   "source": []
  }
 ],
 "metadata": {
  "kernelspec": {
   "display_name": "Python 2",
   "language": "python",
   "name": "python2"
  },
  "language_info": {
   "codemirror_mode": {
    "name": "ipython",
    "version": 2
   },
   "file_extension": ".py",
   "mimetype": "text/x-python",
   "name": "python",
   "nbconvert_exporter": "python",
   "pygments_lexer": "ipython2",
   "version": "2.7.11"
  }
 },
 "nbformat": 4,
 "nbformat_minor": 0
}
