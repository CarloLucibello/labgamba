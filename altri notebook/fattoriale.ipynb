{
 "metadata": {
  "name": "",
  "signature": "sha256:25c2686971e8a9a5e0a806635e033f2f91fc8c8651d02812aa7514b75707f33b"
 },
 "nbformat": 3,
 "nbformat_minor": 0,
 "worksheets": [
  {
   "cells": [
    {
     "cell_type": "code",
     "collapsed": false,
     "input": [
      "def fact(n):\n",
      "    f=1\n",
      "    for k in range(1,n+1):\n",
      "        f*=k\n",
      "    return f"
     ],
     "language": "python",
     "metadata": {},
     "outputs": [],
     "prompt_number": 3
    },
    {
     "cell_type": "code",
     "collapsed": false,
     "input": [
      "fact(20)"
     ],
     "language": "python",
     "metadata": {},
     "outputs": [
      {
       "metadata": {},
       "output_type": "pyout",
       "prompt_number": 4,
       "text": [
        "2432902008176640000"
       ]
      }
     ],
     "prompt_number": 4
    },
    {
     "cell_type": "code",
     "collapsed": false,
     "input": [
      "def factr(n):\n",
      "    if n==0:\n",
      "        return 1\n",
      "    elif n>0:\n",
      "        return n*factr(n-1)"
     ],
     "language": "python",
     "metadata": {},
     "outputs": [],
     "prompt_number": 5
    },
    {
     "cell_type": "code",
     "collapsed": false,
     "input": [
      "factr(10)"
     ],
     "language": "python",
     "metadata": {},
     "outputs": [
      {
       "metadata": {},
       "output_type": "pyout",
       "prompt_number": 6,
       "text": [
        "3628800"
       ]
      }
     ],
     "prompt_number": 6
    },
    {
     "cell_type": "code",
     "collapsed": false,
     "input": [
      "def sqr(x,k):\n",
      "    if k==0:\n",
      "        return x\n",
      "    else:\n",
      "        return 0.5*(sqr(x,k-1)+x/sqr(x,k-1))"
     ],
     "language": "python",
     "metadata": {},
     "outputs": [],
     "prompt_number": 9
    },
    {
     "cell_type": "code",
     "collapsed": false,
     "input": [
      "sqr(2,4)"
     ],
     "language": "python",
     "metadata": {},
     "outputs": [
      {
       "metadata": {},
       "output_type": "pyout",
       "prompt_number": 10,
       "text": [
        "1.4142135623746899"
       ]
      }
     ],
     "prompt_number": 10
    },
    {
     "cell_type": "code",
     "collapsed": false,
     "input": [
      "sqrt(2)"
     ],
     "language": "python",
     "metadata": {},
     "outputs": [
      {
       "metadata": {},
       "output_type": "pyout",
       "prompt_number": 11,
       "text": [
        "1.4142135623730951"
       ]
      }
     ],
     "prompt_number": 11
    },
    {
     "cell_type": "code",
     "collapsed": false,
     "input": [
      "for k in range(10):\n",
      "    print 'passo %i:\\t%f\\t%f'%(k,sqr(2,k),sqrt(2)-sqr(2,k))"
     ],
     "language": "python",
     "metadata": {},
     "outputs": [
      {
       "output_type": "stream",
       "stream": "stdout",
       "text": [
        "passo 0:\t2.000000\t-0.585786\n",
        "passo 1:\t1.500000\t-0.085786\n",
        "passo 2:\t1.416667\t-0.002453\n",
        "passo 3:\t1.414216\t-0.000002\n",
        "passo 4:\t1.414214\t-0.000000\n",
        "passo 5:\t1.414214\t0.000000\n",
        "passo 6:\t1.414214\t0.000000\n",
        "passo 7:\t1.414214\t0.000000\n",
        "passo 8:\t1.414214\t0.000000\n",
        "passo 9:\t1.414214\t0.000000\n"
       ]
      }
     ],
     "prompt_number": 17
    },
    {
     "cell_type": "code",
     "collapsed": false,
     "input": [
      "def sqr2(x,epsilon):\n",
      "    k=0\n",
      "    y=x\n",
      "    while abs(y*y-x)>epsilon:\n",
      "        y=0.5*(y+x/y)\n",
      "        k+=1\n",
      "    return k,y"
     ],
     "language": "python",
     "metadata": {},
     "outputs": [],
     "prompt_number": 22
    },
    {
     "cell_type": "code",
     "collapsed": false,
     "input": [
      "sqr2(2,1e-5)"
     ],
     "language": "python",
     "metadata": {},
     "outputs": [
      {
       "metadata": {},
       "output_type": "pyout",
       "prompt_number": 23,
       "text": [
        "(3, 1.4142156862745097)"
       ]
      }
     ],
     "prompt_number": 23
    },
    {
     "cell_type": "code",
     "collapsed": false,
     "input": [],
     "language": "python",
     "metadata": {},
     "outputs": []
    }
   ],
   "metadata": {}
  }
 ]
}