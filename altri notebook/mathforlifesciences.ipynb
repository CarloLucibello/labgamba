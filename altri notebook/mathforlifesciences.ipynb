{
 "metadata": {
  "name": "",
  "signature": "sha256:8e7fdd6145e433f5a6bd4f3de8f280627f2e76cdb56b2ed221b8d38f014d4b0f"
 },
 "nbformat": 3,
 "nbformat_minor": 0,
 "worksheets": [
  {
   "cells": [
    {
     "cell_type": "markdown",
     "metadata": {},
     "source": [
      "To enter the computing environment, click on 'IPython Notebook', then on 'New Notebook'. That will create a \u2018notebook' containing our calculations.\n",
      "\n",
      "At the notebook prompt, we can insert a series of command lines separated by \u2018Enter'. To execute a block of command lines we insert 'Shift+Enter' (depending on the operatying system, different combinations of 'Enter', 'Shift+Enter', 'Ctrl+Enter' may be used).\n",
      "\n",
      "Before starting, let us import some scientific libraries:"
     ]
    },
    {
     "cell_type": "code",
     "collapsed": false,
     "input": [
      "from scipy import *"
     ],
     "language": "python",
     "metadata": {},
     "outputs": [],
     "prompt_number": 11
    },
    {
     "cell_type": "code",
     "collapsed": false,
     "input": [
      "data=[1,2,3]"
     ],
     "language": "python",
     "metadata": {},
     "outputs": [],
     "prompt_number": 3
    },
    {
     "cell_type": "code",
     "collapsed": false,
     "input": [
      "data"
     ],
     "language": "python",
     "metadata": {},
     "outputs": [
      {
       "metadata": {},
       "output_type": "pyout",
       "prompt_number": 4,
       "text": [
        "[1, 2, 3]"
       ]
      }
     ],
     "prompt_number": 4
    },
    {
     "cell_type": "code",
     "collapsed": false,
     "input": [
      "print(data)"
     ],
     "language": "python",
     "metadata": {},
     "outputs": [
      {
       "output_type": "stream",
       "stream": "stdout",
       "text": [
        "[1, 2, 3]\n"
       ]
      }
     ],
     "prompt_number": 5
    },
    {
     "cell_type": "code",
     "collapsed": false,
     "input": [
      "savetxt('mydata',data)"
     ],
     "language": "python",
     "metadata": {},
     "outputs": [],
     "prompt_number": 14
    },
    {
     "cell_type": "code",
     "collapsed": false,
     "input": [
      "!gvim mydata"
     ],
     "language": "python",
     "metadata": {},
     "outputs": [],
     "prompt_number": 15
    },
    {
     "cell_type": "code",
     "collapsed": false,
     "input": [
      "!ls"
     ],
     "language": "python",
     "metadata": {},
     "outputs": [
      {
       "output_type": "stream",
       "stream": "stdout",
       "text": [
        "0\t\t\t\t       leggere\r\n",
        "01_errori.ipynb\t\t\t       lingue\r\n",
        "02_cinematica.ipynb\t\t       livestmp\r\n",
        "03_oscillatore_armonico.ipynb\t       lmms\r\n",
        "04_forze_conservative.ipynb\t       manuali\r\n",
        "05_oscillatore_forzato_smorzato.ipynb  mappe\r\n",
        "06_Keplero.ipynb\t\t       missfont.log\r\n",
        "09_sezioni_coniche.ipynb\t       mitosis_proj.tm\r\n",
        "130705.ipynb\t\t\t       modello\r\n",
        "130717.ipynb\t\t\t       modello_rac.xml\r\n",
        "140224.ipynb\t\t\t       Music\r\n",
        "140224.tm\t\t\t       musiche\r\n",
        "140224.tm~\t\t\t       mydata\r\n",
        "28-bis.tm\t\t\t       newprova\r\n",
        "28.tm\t\t\t\t       nr\r\n",
        "28.tm~\t\t\t\t       Pictures\r\n",
        "agenda\t\t\t\t       PlayOnLinux's virtual drives\r\n",
        "anaconda\t\t\t       prova\r\n",
        "animation.mp4\t\t\t       provacopia\r\n",
        "appunti\t\t\t\t       Public\r\n",
        "archivio\t\t\t       PyDSTool\r\n",
        "Audiophile Baroque\t\t       python_syspath\r\n",
        "Bartok Radio\t\t\t       R\r\n",
        "bin\t\t\t\t       ragazzi\r\n",
        "cache\t\t\t\t       ricevute\r\n",
        "Calibre Library\t\t\t       scan\r\n",
        "circulation.tm~\t\t\t       scipy\r\n",
        "config\t\t\t\t       scrivania\r\n",
        "config-backup\t\t\t       sdk\r\n",
        "deb\t\t\t\t       Shared\r\n",
        "Desk\t\t\t\t       sketchbook\r\n",
        "Desktop\t\t\t\t       sloppycell\r\n",
        "didattica\t\t\t       stem.tm~\r\n",
        "doc\t\t\t\t       suono.wav\r\n",
        "Documents\t\t\t       sync-download\r\n",
        "Downloads\t\t\t       sync-foto\r\n",
        "Dropbox\t\t\t\t       sync-libri\r\n",
        "Dropbox.copy\t\t\t       sync-musica\r\n",
        "fig.eps\t\t\t\t       Templates\r\n",
        "flashgot\t\t\t       tex\r\n",
        "Help.ipynb\t\t\t       tmp\r\n",
        "image-1.jpg\t\t\t       TSA+12.notes.tm~\r\n",
        "immagini\t\t\t       Ubuntu One\r\n",
        "info\t\t\t\t       Untitled0.ipynb\r\n",
        "inline\t\t\t\t       Untitled1.ipynb\r\n",
        "ipython_log_130701.py\t\t       vari\r\n",
        "ipython_log_130705.py\t\t       Videos\r\n",
        "istruzioni\t\t\t       web\r\n",
        "kdenlive\t\t\t       xxx\r\n",
        "lavoro\r\n"
       ]
      }
     ],
     "prompt_number": 13
    },
    {
     "cell_type": "code",
     "collapsed": false,
     "input": [],
     "language": "python",
     "metadata": {},
     "outputs": []
    }
   ],
   "metadata": {}
  }
 ]
}