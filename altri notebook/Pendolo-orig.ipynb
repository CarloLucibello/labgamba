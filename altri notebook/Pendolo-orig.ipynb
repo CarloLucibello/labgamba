{
 "cells": [
  {
   "cell_type": "markdown",
   "metadata": {},
   "source": [
    "PENDOLO SEMPLICE\n",
    "================\n",
    "\n",
    "### SCOPI PRINCIPALI DELL’ESPERIENZA ###\n",
    "\n",
    "* Verificare che misure ripetute, ottenute in presenza di incertezze casuali, si distribuiscono secondo una distribuzione normale (gaussiana)\n",
    "* Determinare il valore dell’accelerazione di gravità\n",
    "\n",
    "### PRINCIPI FISICI SU CUI SI BASA L’ESPERIENZA ###\n",
    "\n",
    "* Il *pendolo semplice* è costituito da un punto materiale (in cui si pensa sia concentrata la massa $m$) appeso per mezzo di un filo inestensibile e di massa trascurabile. La posizione di equilibrio statico è quella con il filo in verticale. Se allontanato dalla posizione di equilibrio, il punto inizia ad oscillare lungo un arco di circonferenza, in un piano verticale.\n",
    "* Le forze che agiscono sono la tensione del filo $\\mathbf{T}_\\mathrm{filo}$ e la forza peso $m \\mathbf{g}$. L’equazione del moto è quindi:\n",
    "$$ \\mathbf{T}_\\mathrm{filo} + m \\mathbf{g} = m \\mathbf{a} $$\n",
    "* La massa $m$ oscilla lungo un arco di circonferenza di raggio $L$, e l’equazione del moto scritta lungo la componente parallela alla traiettoria ($\\parallel$) risulta essere:\n",
    "$$ - m g \\sin \\theta = m a_\\parallel = m L \\frac{\\mathrm{d}^2\\theta}{\\mathrm{d}t^2}$$\n",
    "* Se le oscillazioni sono piccole ($\\theta\\le 0.122\\, \\mathrm{rad}\\simeq 7^\\circ$), si può sostituire $\\sin \\theta$ con $\\theta$, e si ottiene:\n",
    "$$\\frac{\\mathrm{d}^2\\theta}{\\mathrm{d}t^2}+\\frac{g}{L}\\theta=0$$ che ammette come soluzione, posto $\\omega^2 = g/L $:     \n",
    "$$\\theta = \\theta_0 \\sin (\\omega t + \\varphi )$$\n",
    "* Il moto è quindi periodico con periodo \n",
    "$$T=2\\pi\\sqrt{\\frac{L}{g}}$$\n",
    "\n",
    "### ESECUZIONE DELL’ESPERIENZA ###\n",
    "\n",
    "* Per avere angoli < $7^\\circ$, spostare la sferetta dalla posizione di equilibrio di una distanza pari ad $\\frac{1}{10}$ del valore di $L$ scelto. In questo modo $\\theta = \\arctan \\frac{1}{10 } = 5.7^\\circ$.\n",
    "* La misura del periodo di oscillazione viene eseguita con un cronometro, misurando il tempo di $n$ ($\\ge 5$) oscillazioni, e dividendo il risultato ottenuto per $n$.\n",
    "* Si esegue la misura del raggio della sferetta $r$, della lunghezza del filo $l$ e si determina la lunghezza $L=r+l$ del pendolo, valutando l’incertezza $\\Delta L$ di tale stima.\n",
    "* Si esegue un elevato numero di misure (circa 100) del periodo $T$ di oscillazione del pendolo, per un valore fissato della lunghezza $L$ (Obiettivo 1).\n",
    "* Si esegue un numero adeguato di misure ($\\ge 5$) del periodo $T$ di oscillazione del pendolo per diversi (almeno 5) valori di lunghezza $L$ (Obiettivo 2)."
   ]
  },
  {
   "cell_type": "code",
   "execution_count": 6,
   "metadata": {
    "collapsed": true
   },
   "outputs": [],
   "source": [
    "### Analisi dei dati ###"
   ]
  },
  {
   "cell_type": "code",
   "execution_count": 7,
   "metadata": {
    "collapsed": false
   },
   "outputs": [
    {
     "name": "stdout",
     "output_type": "stream",
     "text": [
      "Using matplotlib backend: Qt4Agg\n",
      "Populating the interactive namespace from numpy and matplotlib\n"
     ]
    }
   ],
   "source": [
    "# Carico le librerie matematiche, grafiche e statistiche\n",
    "\n",
    "%pylab\n",
    "%matplotlib inline\n",
    "from scipy import stats"
   ]
  },
  {
   "cell_type": "code",
   "execution_count": 8,
   "metadata": {
    "collapsed": false
   },
   "outputs": [
    {
     "name": "stdout",
     "output_type": "stream",
     "text": [
      "T = 2.01 +/- 0.23 s\n"
     ]
    }
   ],
   "source": [
    "# Inserire qui il vettore T contenente le misure sperimentali del periodo del pendolo [s]:\n",
    "\n",
    "T = array([ 2.07 , 2.04 , 2.12 , 1.44 , 2.37 , 1.94 ,\n",
    "            2.37 , 1.80 , 1.96 , 1.87 , 2.10 , 1.58 ,\n",
    "            2.18 , 2.07 , 2.29 , 1.96 , 2.12 , 1.98  ])\n",
    "\n",
    "N       = len(T)                         # calcolo la lunghezza del vettore T, cioè il numero di misure effettuate\n",
    "\n",
    "Tmedio  = mean(T)                        \n",
    "Tstd    = std(T)\n",
    "\n",
    "print 'T = %4.2f +/- %4.2f s'%(Tmedio,Tstd)"
   ]
  },
  {
   "cell_type": "code",
   "execution_count": 9,
   "metadata": {
    "collapsed": false
   },
   "outputs": [
    {
     "data": {
      "image/png": "[encoded data removed]",
      "text/plain": [
       "<matplotlib.figure.Figure at 0x7ff3ebee8fd0>"
      ]
     },
     "metadata": {},
     "output_type": "display_data"
    }
   ],
   "source": [
    "# Creo una suddivisione dell'intervallo [0,A] in classi di ampiezza dT=0.15\n",
    "# traslo tutte le classi di dT/2 per centrarle rispetto all'origine\n",
    "\n",
    "dT    = 0.15                             # ampiezza delle classi\n",
    "A     = 2*Tmedio                         # ampiezza dell'intervallo [0,A]\n",
    "bins  = arange(0,A,dT)+dT/2.             # estremi delle classi\n",
    "\n",
    "# Creo un istogramma delle misure\n",
    "# (si noti la differenza tra normed=True e normed=False)\n",
    "\n",
    "hist(T,bins,normed=True)\n",
    "\n",
    "# Sovrappongo all'istogramma il grafico della funzione a campana di Gauss\n",
    "\n",
    "x     = linspace(0,A,200)\n",
    "plot(x,stats.norm.pdf(x,loc=Tmedio,scale=Tstd),'r',linewidth=4)\n",
    "\n",
    "savefig('istogramma_T.pdf')                # salvo la figura con l'istogramma"
   ]
  },
  {
   "cell_type": "code",
   "execution_count": 10,
   "metadata": {
    "collapsed": false
   },
   "outputs": [
    {
     "name": "stdout",
     "output_type": "stream",
     "text": [
      "g = 10.21 +/- 2.92 m/s**2  (errore stimato direttamente)\n"
     ]
    }
   ],
   "source": [
    "# Genero un vettore di valori di g calcolati a partire dalle misure di T usando la formula teorica\n",
    "# nella quale qui per esempio ho post L=1\n",
    "# Eseguo poi una stima diretta dell'errore su g \n",
    "\n",
    "L = 1    # m\n",
    "g=4*pi**2*L/T**2\n",
    "gmedio=mean(g)\n",
    "gstd=std(g)\n",
    "print 'g = %4.2f +/- %4.2f m/s**2  (errore stimato direttamente)'%(gmedio,gstd)\n",
    "\n",
    "# Aggiungere qui la stima dell'errore mediante la formula di propagazione degli errori"
   ]
  },
  {
   "cell_type": "markdown",
   "metadata": {},
   "source": [
    "### Minimi quadrati ###\n",
    "\n",
    "Si disegni il grafico dei punti sperimentali $(x_i=L_i, y_i=T_i^2)$ e si interpolino linearmente i dati con il metodo dei minimi quadrati. \n",
    "La retta interpolante è $y=mx+q$ con $q=0$ e $m=4\\pi^2/g$. Il parametro $m$ si ricava dalla formula\n",
    "$$\n",
    "m=\\frac{N\\sum\\limits_{i=0}^N x_i\\,y_i-\\sum\\limits_{i=0}^N x_i\\,\\cdot\\,\\sum\\limits_{i=0}^N y_i}{N\\sum\\limits_{i=0}^N x_i^2 - \\left(\\sum\\limits_{i=0}^N x_i\\right)^2}\n",
    "$$"
   ]
  },
  {
   "cell_type": "code",
   "execution_count": 16,
   "metadata": {
    "collapsed": false
   },
   "outputs": [],
   "source": [
    "# Metodo dei minimi quadrati\n",
    "\n",
    "# Inserire qui i valori sperimentali:\n",
    "\n",
    "L    = array([  4.14 ,  5.16 ,  6.17 ,  7.18 ,  8.19 ,  9.11 , 10.12 , 11.13 , 12.14 , 13.15 , \n",
    "               14.11 , 15.12 , 16.13 , 17.14 , 18.15 , 19.16 , 20.17 , 21.18 , 22.19 , 23.20])\n",
    "T    = array([ 3.28 , 4.63 , 4.52 , 5.47 , 6.08 , 5.83 ,\n",
    "               6.30 , 6.56 , 7.17 , 7.56 , 7.42 , 7.81 ,\n",
    "               7.39 , 7.79 , 9.02 , 8.92 , 9.30 , 9.04 ,\n",
    "               9.41 , 9.48])"
   ]
  },
  {
   "cell_type": "code",
   "execution_count": 19,
   "metadata": {
    "collapsed": false
   },
   "outputs": [
    {
     "name": "stdout",
     "output_type": "stream",
     "text": [
      "accelerazione di gravità misurata: g = 9.69\n"
     ]
    }
   ],
   "source": [
    "x  = L\n",
    "y  = T**2\n",
    "\n",
    "N  = len(L)\n",
    "\n",
    "m  = (N*sum(x*y)-sum(x)*sum(y))/(N*sum(x*x)-(sum(x))**2)\n",
    "\n",
    "gmes  = 4*pi**2/m\n",
    "print 'accelerazione di gravità misurata: g = %4.2f'%gmes"
   ]
  },
  {
   "cell_type": "code",
   "execution_count": 18,
   "metadata": {
    "collapsed": false
   },
   "outputs": [
    {
     "data": {
      "text/plain": [
       "[<matplotlib.lines.Line2D at 0x7ff3df1b4310>]"
      ]
     },
     "execution_count": 18,
     "metadata": {},
     "output_type": "execute_result"
    },
    {
     "data": {
      "image/png": "[encoded data removed]",
      "text/plain": [
       "<matplotlib.figure.Figure at 0x7ff3df633250>"
      ]
     },
     "metadata": {},
     "output_type": "display_data"
    }
   ],
   "source": [
    "plot(L,T**2,'o')\n",
    "plot(x,m*x)"
   ]
  },
  {
   "cell_type": "markdown",
   "metadata": {},
   "source": [
    "### Esercizio ###\n",
    "\n",
    "Ricavare anche il valore di $q$ e le incertezze $\\sigma_m$, $\\sigma_q$ utilizzando le formule riportate nella scheda. Stimare l'incertezza sul valore di $g$ calcolato usando il metodo dei minimi quadrati."
   ]
  },
  {
   "cell_type": "code",
   "execution_count": 21,
   "metadata": {
    "collapsed": false
   },
   "outputs": [
    {
     "data": {
      "text/plain": [
       "[<matplotlib.lines.Line2D at 0x7ff3df282850>]"
      ]
     },
     "execution_count": 21,
     "metadata": {},
     "output_type": "execute_result"
    },
    {
     "data": {
      "image/png": "[encoded data removed]",
      "text/plain": [
       "<matplotlib.figure.Figure at 0x7ff3df1c8090>"
      ]
     },
     "metadata": {},
     "output_type": "display_data"
    }
   ],
   "source": [
    "from scipy.stats import linregress\n",
    "\n",
    "m,q,r,p,stderr=linregress(L,T**2)\n",
    "\n",
    "plot(L,T**2,'o')\n",
    "plot(L,m*L+q)\n",
    "\n",
    "# Calcolare l'incertezza su g utilizzando le formule di propagazione dell'incertezza riportate nella scheda"
   ]
  },
  {
   "cell_type": "code",
   "execution_count": null,
   "metadata": {
    "collapsed": true
   },
   "outputs": [],
   "source": []
  }
 ],
 "metadata": {
  "kernelspec": {
   "display_name": "Python 2",
   "language": "python",
   "name": "python2"
  },
  "language_info": {
   "codemirror_mode": {
    "name": "ipython",
    "version": 2
   },
   "file_extension": ".py",
   "mimetype": "text/x-python",
   "name": "python",
   "nbconvert_exporter": "python",
   "pygments_lexer": "ipython2",
   "version": "2.7.11"
  }
 },
 "nbformat": 4,
 "nbformat_minor": 0
}
