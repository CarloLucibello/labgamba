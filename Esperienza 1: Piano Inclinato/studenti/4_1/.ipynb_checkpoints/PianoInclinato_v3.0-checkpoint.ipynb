{
 "cells": [
  {
   "cell_type": "markdown",
   "metadata": {},
   "source": [
    "### Squadra X  / 21 marzo 2017\n",
    "\n",
    "- ** Tota Daniele (matr. 238169)**\n",
    "- ** Tinti Bianca (matr. 234139)**\n",
    "- ** Torchio Massimiliano (matr. 237970)**\n",
    "- ** Spinello Basilio (matr. 238231)**"
   ]
  },
  {
   "cell_type": "markdown",
   "metadata": {},
   "source": [
    "## Determinazione dell'accelerazione di gravità mediante misure di moto uniformemente accelerato lungo un piano inclinato\n",
    "\n",
    "### Scopo dell'esperienza\n",
    "1. Verifica della legge oraria del moto uniformemente accelerato:\n",
    "    $$s(t)=s_\\mathrm{in}+v_\\mathrm{in} (t-t_\\mathrm{in})+\\frac{1}{2}a\\,(t-t_\\mathrm{in})^2$$\n",
    "\n",
    "2. Verifica della dipendenza lineare tra l'accelerazione del carrello e l'inclinazione del piano.\n",
    "3. Calcolo dell'accelerazione di gravità $g$ e del coefficiente di attrito $μ_k$ .\n",
    "\n",
    "### Materiali e strumenti utilizzati \n",
    "- rotaia rettilinea (piano inclinato) di lunghezza $L$;\n",
    "- treppiede con asta metallica verticale da infilare nell’aggancio della rotaia per inclinarla;\n",
    "- carrello (macchinina) con respingente magnetico (e propulsore a molla);\n",
    "- mascherina di plexiglas trasparente con tratti scuri variamente spaziati da fissare longitudinalmente sul carrello\n",
    "- metro a nastro e scala graduata lungo il piano inclinato;\n",
    "- livella\n",
    "- Smart Timer;\n",
    "- due traguardi a fotocellula da collegare allo Smart Timer;\n",
    "- questo notebook jupyter Python, dove annotare e analizzare i risultati dell'esperimento.\n",
    "\n",
    "<img src=\"apparato.png\">\n",
    "\n",
    "Il **fototraguardo** è basato su una coppia emettitore-rivelatore di raggi infrarossi a 880 nm, con un tempo caratteristico di salita di 500 ns e uno di discesa di 50 ns: un oggetto che passa attraverso il fototraguardo ostacola il fascio infrarosso provocando l'apertura del circuito. Per un oggetto che passa a 1 cm dal rivelatore infrarosso, con una velocità minore di 10 m/s, la differenza tra la lunghezza reale e quella misurata è minore di un millimetro. Documentazione [qui](https://www.sbai.uniroma1.it/labfis/strumentazione_sensori_pasco_fototraguardo.html)\n",
    "\n",
    "### Fondamenti Teorici\n",
    "\n",
    "Il moto senza attrito di un oggetto lungo un piano inclinato è uniformemente accelerato, secondo la legge oraria:\n",
    "\n",
    "$$s(t)=s_\\mathrm{in}+v_\\mathrm{in} (t-t_\\mathrm{in})+\\frac{1}{2}a\\,(t-t_\\mathrm{in})^2$$\n",
    "\n",
    "L’accelerazione $a$, in assenza di attrito, è legata all’accelerazione di gravità dalla semplice relazione  \n",
    "\n",
    "$$a=g\\sin\\alpha$$\n",
    " \n",
    "dove $\\alpha$ è l’angolo di cui è inclinato il piano. Nel nostro caso, e in riferimento alla figura, è $H=L\\sin\\alpha$, da cui \n",
    "\n",
    "$$a=g H/L$$\n",
    "\n",
    "In presenza di una forza di attrito\n",
    " \n",
    "$$F_k =-\\mu_k m g\\cos\\alpha $$\n",
    "\n",
    "avremo invece\n",
    "\n",
    "$$ a = g(\\sin\\alpha - \\mu_k \\cos\\alpha)$$\n",
    "\n",
    "Nell'esperimento $t_0$ sarà relativo al primo sensore a fotocellula (indice 1) e t sarà relativo al secondo sensore a fotocellula (indice 2), da cui:\n",
    "\n",
    "$$\\Delta s=s_2-s_1=v_1\\,\\Delta t+\\frac{1}{2}a\\,\\Delta t^2\\qquad (1)$$\n",
    " \t\t\t \n",
    "avendo indicato con $s_2$ e $s_1$ le distanze dei 2 sensori a fotocellula dalla sommità della rotaia ($s_0=0$).\n",
    " \n",
    "### Descrizione dell'Esperienza\n",
    " \n",
    "a) Determinare la posizione orizzontale della rotaia posizionando la rotaia stessa sul tavolo e posizionando il carrello al suo centro: se il carrello si muove, aggiustare la vite posta alla fine della rotaia finché il carrello non si muove più. Misurare l’altezza $h_{A0}$ tra il tavolo e il lato superiore dell'estremità della rotaia con arresto fisso con gommino, che sarà quella che successivamente sarà elevata. Misurare inoltre l'altezza $h_{B0}$ dal lato opposto.\n",
    "Avvalersi della livella per controllare che la rotaia non sia inclinata sia rispetto all'asse longitudinale che a quello trasversale. Si noti che è possibilire regolare l'altezza dei supporti del treppiede mediante delle viti. \n",
    "Il tavolo potrebbe essere non perfettamente orizzontale.\n",
    "Misurare anche la lunghezza $L$ della rotaia da un'estremità all'altra.\n",
    " \n",
    " <img src=\"fig_a1.png\">\n",
    " <img src=\"fig_a2.png\">\n",
    "\n",
    "b) Fissare il primo sensore a fotocellula a una trentina di cm dalla sommità ($s_0=0$) del piano inclinato (collegare il relativo cavo al canale 1 dello Smart Timer). Indicando con l’indice 1 tale sensore, la distanza del primo sensore dalla sommità sarà $s_1$. Valutare l’incertezza $δ(s_1)$ relativa alla misura di $s_1$.\n",
    "\n",
    "<img src=\"fig_b.png\">\n",
    "\n",
    "c) Accendere il sistema di acquisizione Smart Timer con l’interruttore posto sulla sinistra [I/O], premere il tasto 1 “Select Measurement” fino a scegliere la misura “TIME”, premere il tasto 2 “Select Mode” fino a scegliere la modalità “Two Gates” (si misurerà l’intervallo di tempo che intercorre tra il passaggio dal 1° al 2° fototraguardo).\n",
    "\n",
    "d) Regolare l'inclinazione del piano, verificando con la bolla che non vi sia una pendenza laterale. Misurare l’altezza $h_A$ della rotaia all’estremità alta (distanza tavolo – lato superiore della rotaia) e quella all'estremità bassa $h_B$: l’altezza $H$ da considerare sarà $H=(h_A-h_{A0}) - (h_B-h_{B0})$ (scegliere un angolo di inclinazione non troppo grande). Valutare l’incertezza $δ(H)$ relativa ad $H$.\n",
    "Calcolare l'angolo $\\sin \\alpha =H/L$ e la relativa incertezza.\n",
    "\n",
    "<img src=\"fig_d.png\">\n",
    "\n",
    "e) Fissare il secondo sensore a una distanza $\\Delta s$ di qualche centimetro (ad es. 10 cm) dal primo. Indicando con l’indice 2 tale sensore, la distanza del secondo sensore dalla sommità sarà $s_2$ e quindi $\\Delta s=s_2-s_1$. Valutare l’incertezza $\\delta(s_2)$ relativa alla misura di $s_2$; valutare l’incertezza $\\delta(\\Delta s)$ relativa a $\\Delta s$.\n",
    "\n",
    "<img src=\"fig_e.png\">\n",
    "\n",
    "f) Ripetere le seguenti operazioni 5 volte, senza variare la distanza tra i sensori:\n",
    "1. Premere il tasto 3 “Start” dello smart timer (si sente un suono e compare un asterisco sulla seconda riga dello strumento): a questo punto lo smart timer è attivo e pronto a ricevere gli impulsi dai fototraguardi e a mostrare il tempo t impiegato a percorrere lo spazio s tra i due sensori.\n",
    "2. Disporre il carrello alla sommità della rotaia e lasciarlo libero di scendere, avendo cura di non imprimere alcuna forza alla partenza (controllare che al passaggio sui due fototraguardi si illumini una spia rossa).\n",
    "3. Segnare il tempo t visualizzato (rimane visualizzato finché non si preme di nuovo “Start”) e l'incertezza associata. \n",
    "\n",
    "g) Ripetere le operazioni (e)-(f) 5 volte, TENENDO FISSA LA POSIZIONE DEL 1° SENSORE e cambiando quella del 2° in modo tale che la distanza $\\Delta s$ aumenti ogni volta (ad es. di 10 cm).\n",
    "\n",
    "h) Ripetere le misure del moto del carrello in discesa, secondo la procedura seguita in precedenza [operazioni (d)-(g)], per almeno 5 angoli di inclinazione $\\alpha_i$ diversi (ossia per almeno 4 diversi valori di $H_i$). Nel frattempo è possibile fittare e visualizzare i plot delle varie tranche nelle apposite celle del notebook.\n",
    "\n",
    "### Grandezze Utilizzate \n",
    "- $s_1$, $s_2$: distanza del primo e secondo sensore dalla sommità del piano;  $δ s_1$, $δ s_2$: incertezze nella misura di $s_1$ e $s_2$ \n",
    "- $\\Delta s= s_2 - s_1$: distanza tra i due sensori; $δ(\\Delta s)$: incertezza nella valutazione di $s$ \n",
    "- $\\Delta t_i$: $i$-esima misura del tempo di percorrenza tra $s_1$ e $s_2$\n",
    "- $\\alpha_i$ : angolo di inclinazione del piano rispetto all’orizzontale \n",
    "- $H$: differenza di quota tra l'estremità bassa e l’estremità alta della rotaia; $δ(H)$: incertezza nella valutazione di $H$\n",
    "- $L$: lunghezza rotaia; $δ(L)$: incertezza nella misura di $L$\n",
    "- $δ(\\overline{\\Delta t})$ : stima dell'incertezza su $\\overline{\\Delta t}$ come deviazione standard della media. \n",
    "\n",
    "### Fit Lineare\n",
    "Descriviamo qui come effettuare un fit dei coefficienti $A$ e $B$ nella funzione $y= A+ B x$, seconda la procedura dei minimi quadrati. \n",
    "Siano $x_i,y_i$,con $i=1,\\ldots,n$, i punti sperimentali, e definiamo  la funzione di costo\n",
    "\n",
    "$$ f(A,B) = \\sum_{i=1}^n (A + B x_i - y_i)^2 $$ \n",
    "\n",
    "I valori ottimali di $A$ e $B$ sono ottenuti risolvendo il sistema di equazioni \n",
    "\n",
    "$$ \\frac{\\partial f}{\\partial A} = 0;\\qquad \\frac{\\partial f}{\\partial B} = 0 $$\n",
    "\n",
    "Introducendo i simboli\n",
    "\n",
    "$$ \\langle x\\rangle = \\frac{1}{n}\\sum_{i=1}^nx_i,\\quad\n",
    "\\langle x^2\\rangle = \\frac{1}{n}\\sum_{i=1}^nx_i^2,\\quad\n",
    "\\langle x y\\rangle = \\frac{1}{n}\\sum_{i=1}^nx_i y_i,\\quad\\mathrm{etc.}$$\n",
    "\n",
    "la soluzione del sistema è data da\n",
    "\n",
    "$$\n",
    "A=\\frac{\\langle x^2\\rangle\\langle  y\\rangle-\\langle x y\\rangle\\langle x\\rangle}{\\sigma^2_x};\\qquad\n",
    "B=\\frac{\\langle xy\\rangle-\\langle x\\rangle\\langle y\\rangle}{\\sigma^2_x},\n",
    "$$\n",
    "con \n",
    "$$ \\sigma^2_x = \\langle x^2\\rangle-\\langle x\\rangle^2$$\n",
    "\n",
    "L'errore sui paramtetri fittati è stimato da\n",
    "$$\n",
    "\\sigma_A = \\sqrt{\\frac{\\langle x^2\\rangle}{n\\sigma_x^2}}\\,\\sigma_y,\\qquad\n",
    "\\sigma_B = \\sqrt{\\frac{1}{n\\sigma_x^2}}\\,\\sigma_y\n",
    "$$\n",
    "con \n",
    "$$ \\sigma_y^2= \\frac{1}{n-2}\\sum_i (A + B x_i -y_i)^2$$\n",
    "\n",
    "### Fit Quadratico\n",
    "Per verificare la bontà di Eq. (1) nel descrivere i dati sperimentali, bisogna effettuare un fit dei coefficienti $A$ e $B$ nella funzione $y= A x^2 + B x$, seconda la procedura dei minimi quadrati. \n",
    "Siano $x_i,y_i$,con $i=1,\\ldots,n$, i punti sperimentali, e definiamo  la funzione\n",
    "\n",
    "$$ f(A,B) = \\sum_{i=1}^n (A x_i^2 + B x_i - y_i)^2 $$\n",
    "\n",
    "I valori ottimali di $A$ e $B$ sono ottenuti risolvendo il sistema di equazioni \n",
    "\n",
    "$$ \\frac{\\partial f}{\\partial A} = 0;\\qquad \\frac{\\partial f}{\\partial B} = 0. $$\n",
    "\n",
    "Usando la notazione $\\langle \\cdots \\rangle$ introdotta nel paragrafo precedente, la soluzione del sistema è data da\n",
    "\n",
    "$$\n",
    "A=\\frac{\\langle x^2 y\\rangle\\langle x^2\\rangle-\\langle x y\\rangle\\langle x^3\\rangle}{\\Sigma_x};\\quad\n",
    "B=\\frac{\\langle xy\\rangle\\langle x^4\\rangle-\\langle x^3\\rangle\\langle x^2 y\\rangle}{\\Sigma_x},\n",
    "$$\n",
    "con \n",
    "$$ \\Sigma_x = \\langle x^2\\rangle\\langle x^4\\rangle-\\langle x^3\\rangle^2$$\n",
    "\n",
    "L'errore sui paramtetri fittati è stimato da\n",
    "$$\n",
    "\\sigma_A = \\sqrt{\\frac{\\langle x^2\\rangle}{n\\Sigma_x}}\\,\\sigma_y,\\qquad\n",
    "\\sigma_B = \\sqrt{\\frac{\\langle x^4\\rangle}{n\\Sigma_x}}\\,\\sigma_y\n",
    "$$\n",
    "con \n",
    "$$ \\sigma_y^2= \\frac{1}{n-2}\\sum_{i=1}^n(A x_i^2 + B x_i -y_i)^2$$\n",
    "\n",
    "### Propagazione degli errori\n",
    "Ricordiamo la formula di propagazione degli errori per una quantità $f = f(x,y,\\dots)$:\n",
    "\n",
    "$$\\sigma^2_f = \\left(\\frac{\\partial f}{\\partial x}\\right)^2 \\sigma^2_x + \\left(\\frac{\\partial f}{\\partial y}\\right)^2 \\sigma^2_y + \\cdots $$\n",
    "\n",
    "### Utilizzo del notebook Python\n",
    "- le celle possono trovarsi in due stati: \n",
    "    1) command mode (blu, premendo esc) \n",
    "    2) edit mode (verde, per modificare il contenuto, premendo enter)\n",
    "- tipi di cella: standard (per scrivere il codice python) o testo (markdown)\n",
    "- copia e incolla con C e V in command mode\n",
    "- i risultati delle misure vanno scritti nelle celle apposite di questo notebook \n",
    "- aggiungere note, commenti, celle\n",
    "- esegui cella: shift-invio, ctrl-invio\n",
    "- cancella intera cella: dd in command mode\n",
    "- inserisci nuova cella below: B in command mode\n",
    "- caratteri greci: \"Slash\" + Delta + \"Tab\"\n",
    "- inserisci commenti con #. Può essere utile commentare delle linee di codice per trovare l'errore quando una cella non compila.\n",
    "- all'inizio dell'esperienza esegui le celle nel sezione \"Imports e Definizioni\"\n",
    "\n",
    "### Note\n",
    "- riportare una sola cifra significativa per le incertezze; \n",
    "- quando si scrivono misure di grandezze non riportare più cifre significative di quelle coperte dall'incertezza e ricordarsi delle unità di misura; \n",
    "- riportare le formule usate per calcolare i risultati e per determinare le incertezze; \n",
    "- sforzarsi di fare osservazioni e commenti propri e, se si ritiene opportuno, sperimentare, motivando, anche cose diverse da quelle suggerite. \n",
    "\n",
    "\n"
   ]
  },
  {
   "cell_type": "markdown",
   "metadata": {},
   "source": [
    "## @@@@@@@@     INIZIO ESPERIENZA   @@@@@@@@"
   ]
  },
  {
   "cell_type": "markdown",
   "metadata": {},
   "source": [
    "### Imports e Definizioni"
   ]
  },
  {
   "cell_type": "code",
   "execution_count": 1,
   "metadata": {
    "collapsed": false
   },
   "outputs": [
    {
     "name": "stdout",
     "output_type": "stream",
     "text": [
      "Populating the interactive namespace from numpy and matplotlib\n"
     ]
    }
   ],
   "source": [
    "%pylab inline\n",
    "from pandas import DataFrame\n",
    "\n",
    "### Definisco alcuni dizionari che verranno utili in seguito per raccogliere \n",
    "### i risultati delle misure eseguite con diversi valori di H:\n",
    "acc={}\n",
    "dacc={}\n",
    "sinalpha={}\n",
    "dsinalpha={}"
   ]
  },
  {
   "cell_type": "code",
   "execution_count": 2,
   "metadata": {
    "collapsed": false
   },
   "outputs": [],
   "source": [
    "def fit_lineare(x,y):                     \n",
    "    \"\"\"\n",
    "    Questa funzione restituisce termine noto e coefficiente angolare della retta \n",
    "    interpolante y = A + Bx ed il relativo errore\n",
    "    \"\"\"\n",
    "    \n",
    "    ### completare il codice traducendo le formule \n",
    "    ### fornite nell'introduzione e aiutandosi con la funzione definita \n",
    "    ### sotto\n",
    "   "
   ]
  },
  {
   "cell_type": "code",
   "execution_count": 3,
   "metadata": {
    "collapsed": false
   },
   "outputs": [],
   "source": [
    "def fit_quadratico(x,y):        \n",
    "    \"\"\"\n",
    "    Questa funzione restituisce i coefficienti della parabola interpolante \n",
    "    y = Ax**2 + Bx ed il relativo errore\n",
    "    \"\"\"\n",
    "    \n",
    "    mx = mean(x)\n",
    "    mx2 = mean(x*x)\n",
    "    mx3 = mean(x**3)\n",
    "    mx4 = mean(x**4)\n",
    "    mxy = mean(x*y)\n",
    "    mx2y = mean(x*x*y)\n",
    "    \n",
    "    D = mx2*mx4 - mx3**2\n",
    "    A = (mx2y*mx2 - mxy*mx3) / D\n",
    "    B = (mxy*mx4 - mx3*mx2y) / D\n",
    "    \n",
    "    n = len(x)\n",
    "    r = sqrt(sum((A*x**2+B*x - y)**2) / (n-2))\n",
    "    dA = r * sqrt(mx2 / (n*D))\n",
    "    dB = r * sqrt(mx4 / (n*D))\n",
    "    \n",
    "    return A, dA, B, dB"
   ]
  },
  {
   "cell_type": "markdown",
   "metadata": {},
   "source": [
    "### Raccolta Dati"
   ]
  },
  {
   "cell_type": "markdown",
   "metadata": {},
   "source": [
    "#### Round 1"
   ]
  },
  {
   "cell_type": "code",
   "execution_count": 4,
   "metadata": {
    "collapsed": false
   },
   "outputs": [
    {
     "name": "stdout",
     "output_type": "stream",
     "text": [
      "H    = 18.800 +/- 0.1 cm\n",
      "sinα =  0.154 +/- 0.001\n",
      "\n"
     ]
    },
    {
     "data": {
      "text/html": [
       "<div>\n",
       "<table border=\"1\" class=\"dataframe\">\n",
       "  <thead>\n",
       "    <tr style=\"text-align: right;\">\n",
       "      <th>serie</th>\n",
       "      <th>Δs</th>\n",
       "      <th>δ(Δs)</th>\n",
       "      <th>Δt̅</th>\n",
       "      <th>δ(Δt̅)</th>\n",
       "    </tr>\n",
       "  </thead>\n",
       "  <tbody>\n",
       "    <tr>\n",
       "      <th>1</th>\n",
       "      <td>20.0</td>\n",
       "      <td>0.2</td>\n",
       "      <td>0.23730</td>\n",
       "      <td>0.000152</td>\n",
       "    </tr>\n",
       "    <tr>\n",
       "      <th>2</th>\n",
       "      <td>30.0</td>\n",
       "      <td>0.2</td>\n",
       "      <td>0.32884</td>\n",
       "      <td>0.000024</td>\n",
       "    </tr>\n",
       "    <tr>\n",
       "      <th>3</th>\n",
       "      <td>40.0</td>\n",
       "      <td>0.2</td>\n",
       "      <td>0.40922</td>\n",
       "      <td>0.000233</td>\n",
       "    </tr>\n",
       "    <tr>\n",
       "      <th>4</th>\n",
       "      <td>50.0</td>\n",
       "      <td>0.2</td>\n",
       "      <td>0.48624</td>\n",
       "      <td>0.000268</td>\n",
       "    </tr>\n",
       "  </tbody>\n",
       "</table>\n",
       "</div>"
      ],
      "text/plain": [
       "serie    Δs  δ(Δs)      Δt̅    δ(Δt̅)\n",
       "1      20.0    0.2  0.23730  0.000152\n",
       "2      30.0    0.2  0.32884  0.000024\n",
       "3      40.0    0.2  0.40922  0.000233\n",
       "4      50.0    0.2  0.48624  0.000268"
      ]
     },
     "execution_count": 4,
     "metadata": {},
     "output_type": "execute_result"
    }
   ],
   "source": [
    "### \n",
    "### PER ESEGUIRE L'ANALISI DATI, COPIO IN QUESTA CELLA I RISULTATI DELLE \n",
    "### MISURE SCRITTE NELLE CELLA PRECEDENTE (RELATIVE AL PRIMO VALORE DI H\n",
    "### CONSIDERATO) E LI RIORGANIZZO NEL MODO SEGUENTE:\n",
    "###\n",
    "### (i valori di Dt sono riorganizzati in una matrice le cui righe \n",
    "###  corrispondono a tutte le misure eseguite con un dato valore\n",
    "###  della distanza Ds tra i due fototraguardi)\n",
    "###\n",
    "### (sostituire con i propri dati presi dalla cella precedente;\n",
    "###  aggiungere ',' dopo ogni numero)\n",
    "###\n",
    "\n",
    "Dt = array([[\n",
    "0.2370,              # Misure di Dt con Ds=20.0:\n",
    "0.2369,\n",
    "0.2374,\n",
    "0.2377,\n",
    "0.2375,\n",
    "],[\n",
    "0.3289,              # Misure di Dt con Ds=30.0:\n",
    "0.3289,\n",
    "0.3288,\n",
    "0.3288,\n",
    "0.3288,\n",
    "],[\n",
    "0.4083,              # Misure di Dt con Ds=40.0:\n",
    "0.4096,\n",
    "0.4094,\n",
    "0.4094,\n",
    "0.4094\n",
    "],[\n",
    "0.4855,              # Misure di Dt con Ds=50.0:\n",
    "0.4860,\n",
    "0.4871,\n",
    "0.4861,\n",
    "0.4865,\n",
    "]])\n",
    "\n",
    "# La seguenza di valori di Ds considerati è:\n",
    "Ds = array([\n",
    "20.0, \n",
    "30.0, \n",
    "40.0,\n",
    "50.0,\n",
    "])\n",
    "\n",
    "# Le incertezze sui valori di Ds sono:\n",
    "dDs = array([ \n",
    "0.2, \n",
    "0.2, \n",
    "0.2,\n",
    "0.2,\n",
    "])\n",
    "\n",
    "# Qui copio i restanti valori che mi ero annotato nella cella precedente:\n",
    "# (sostituire con i propri dati)\n",
    "\n",
    "L=121.9                  # cm; lunghezza del binario da bordo a bordo \n",
    "dL=0.1                   # cm; incertezza sulla misura della lunghezza del binario\n",
    "\n",
    "hA0=2.59                  # cm; altezza bordo sinistro (quello col gommino, che sarà poi alzato)\n",
    "hB0=3.23                  # cm; altezza bordo destro\n",
    "dh0=0.005                # cm; incertezza (la misura è fatta col calibro)\n",
    "\n",
    "hA=21.4 .\n",
    ".\n",
    "hA=23.6                  # cm; altezza bordo sinistro (che ora è stato alzato)\n",
    "hB=2.3                   # cm; altezza bordo destro\n",
    "dh=0.1                   # cm; relativa incertezza (ora la misura è fatta col metro a nastro)\n",
    "\n",
    "# Seguono alcune formule che servono a calcolare la media delle misure dei tempi\n",
    "# e le relative incertezze :\n",
    "\n",
    "H = (hA-hA0) - (hB-hB0)  # calcolo l'effettiva differenza di quota tra lato sinistro e lato destro del binario\n",
    "dH = sqrt(dh0**2+dh**2)  # usando la propagazione degli errori calcolo l'incertezza su H\n",
    "\n",
    "sina = H / L             # seno dell'angolo di inclinazione\n",
    "                         # usando la propagazione degli errori calcolo l'incertezza su sina:\n",
    "dsina = sqrt( (1/L * dH)**2 + (H/L**2 * dL)**2)   \n",
    "\n",
    "print('H    = %6.3f +/- %.1f cm\\nsinα = %6.3f +/- %.3f\\n' % (H,dH,sina,dsina))\n",
    "\n",
    "n=len(Dt[0])                   # numero di misure\n",
    "Dtm=mean(Dt,axis=1)            # media per righe (axis=1) delle misure\n",
    "dDt=std(Dt,axis=1)/sqrt(n-1)   # errore standard della media\n",
    "\n",
    "# Mediante i comandi che seguono i risultati delle misure sono \n",
    "# organizzati all'interno di una tabella (df) che viene stampata:\n",
    "\n",
    "df = DataFrame({'Δs':Ds, 'δ(Δs)':dDs, 'Δt̅':Dtm, 'δ(Δt̅)':dDt})\n",
    "df = df[['Δs', 'δ(Δs)', 'Δt̅','δ(Δt̅)']]  # assicura che le colonne siano stampate nell'ordine giusto\n",
    "df.index=df.index+1                     # numero le serie di misure a partire da 1 invece che da 0\n",
    "df.columns.name='serie'                 # assegno un nome alla prima colonna \n",
    "df                                      # stampo la tabella"
   ]
  },
  {
   "cell_type": "code",
   "execution_count": 5,
   "metadata": {
    "collapsed": false
   },
   "outputs": [
    {
     "name": "stdout",
     "output_type": "stream",
     "text": [
      "\n",
      "v1 =  66.9 +/-  1.0 cm/s\n",
      "a  = 148.4 +/-  5.0 cm/s**2\n",
      "g  = 962.5 +/- 32.3 cm/s**2\n"
     ]
    },
    {
     "data": {
      "image/png": "[encoded data removed]",
      "text/plain": [
       "<matplotlib.figure.Figure at 0x9ddab70>"
      ]
     },
     "metadata": {},
     "output_type": "display_data"
    }
   ],
   "source": [
    "# Verifica legge quadratica. Eseguire prima la cella di sopra.\n",
    "\n",
    "A, dA, B, dB = fit_quadratico(df['Δt̅'], df['Δs'])\n",
    "\n",
    "def fit_fun(x):              # questa è la funzione quadratica usata per il fit\n",
    "    return A*x**2 + B*x \n",
    "\n",
    "# Grafico dei punti sperimentali:\n",
    "\n",
    "df.plot(x='Δt̅',y='Δs',xerr='δ(Δt̅)',yerr='δ(Δs)',kind='scatter',grid=True) \n",
    "\n",
    "dt=linspace(0.2,0.5)         # creo una successione di valori di dt che mi servono per il grafico\n",
    "plot(dt,fit_fun(dt))         # grafico del fit\n",
    "\n",
    "v1  = B\n",
    "dv1 = dB\n",
    "a   = 2*A\n",
    "da  = 2*dA\n",
    "\n",
    "print(\"\\nv1 = %5.1f +/- %4.1f cm/s\\na  = %5.1f +/- %4.1f cm/s**2\\ng  = %5.1f +/- %4.1f cm/s**2\" % (v1, dv1, a, da, a/sina,da/sina))   \n",
    "\n",
    "acc[H]=a                     # salvo i risultati trovati nei dizionari definiti all'inizio\n",
    "dacc[H]=da\n",
    "sinalpha[H]=sina\n",
    "dsinalpha[H]=dsina"
   ]
  },
  {
   "cell_type": "markdown",
   "metadata": {},
   "source": [
    "#### Round 2 (copia le due celle qui sopra, modifica H, ripeti gli esperimenti)"
   ]
  },
  {
   "cell_type": "code",
   "execution_count": null,
   "metadata": {
    "collapsed": true
   },
   "outputs": [],
   "source": []
  },
  {
   "cell_type": "markdown",
   "metadata": {},
   "source": [
    "#### Round 3 (copia le due celle qui sopra, modifica $H$, ripeti gli esperimenti,)"
   ]
  },
  {
   "cell_type": "code",
   "execution_count": null,
   "metadata": {
    "collapsed": true
   },
   "outputs": [],
   "source": []
  },
  {
   "cell_type": "markdown",
   "metadata": {},
   "source": [
    "#### Round 4 (copia le due celle qui sopra, modifica $H$, ripeti gli esperimenti,)"
   ]
  },
  {
   "cell_type": "code",
   "execution_count": null,
   "metadata": {
    "collapsed": true
   },
   "outputs": [],
   "source": []
  },
  {
   "cell_type": "markdown",
   "metadata": {},
   "source": [
    "#### Round 5 (copia le due celle qui sopra, modifica $H$, ripeti gli esperimenti,)"
   ]
  },
  {
   "cell_type": "code",
   "execution_count": null,
   "metadata": {
    "collapsed": true
   },
   "outputs": [],
   "source": []
  },
  {
   "cell_type": "markdown",
   "metadata": {},
   "source": [
    "### Calcolo di $g$ trascurando l'attrito"
   ]
  },
  {
   "cell_type": "code",
   "execution_count": 6,
   "metadata": {
    "collapsed": false
   },
   "outputs": [
    {
     "ename": "TypeError",
     "evalue": "'NoneType' object is not iterable",
     "output_type": "error",
     "traceback": [
      "\u001b[0;31m---------------------------------------------------------------------------\u001b[0m",
      "\u001b[0;31mTypeError\u001b[0m                                 Traceback (most recent call last)",
      "\u001b[0;32m<ipython-input-6-95e134420479>\u001b[0m in \u001b[0;36m<module>\u001b[0;34m()\u001b[0m\n\u001b[1;32m     13\u001b[0m \u001b[1;31m# Verifica legge lineare\u001b[0m\u001b[1;33m\u001b[0m\u001b[1;33m\u001b[0m\u001b[0m\n\u001b[1;32m     14\u001b[0m \u001b[1;33m\u001b[0m\u001b[0m\n\u001b[0;32m---> 15\u001b[0;31m \u001b[0mA\u001b[0m\u001b[1;33m,\u001b[0m \u001b[0mdA\u001b[0m\u001b[1;33m,\u001b[0m \u001b[0mB\u001b[0m\u001b[1;33m,\u001b[0m \u001b[0mdB\u001b[0m \u001b[1;33m=\u001b[0m \u001b[0mfit_lineare\u001b[0m\u001b[1;33m(\u001b[0m\u001b[0msina\u001b[0m\u001b[1;33m,\u001b[0m \u001b[0ma\u001b[0m\u001b[1;33m)\u001b[0m\u001b[1;33m\u001b[0m\u001b[0m\n\u001b[0m\u001b[1;32m     16\u001b[0m \u001b[1;33m\u001b[0m\u001b[0m\n\u001b[1;32m     17\u001b[0m \u001b[1;32mdef\u001b[0m \u001b[0mfit_fun\u001b[0m\u001b[1;33m(\u001b[0m\u001b[0mx\u001b[0m\u001b[1;33m)\u001b[0m\u001b[1;33m:\u001b[0m\u001b[1;33m\u001b[0m\u001b[0m\n",
      "\u001b[0;31mTypeError\u001b[0m: 'NoneType' object is not iterable"
     ]
    }
   ],
   "source": [
    "### Verifica relazione lineare tra sinα e accelerazione\n",
    "###\n",
    "### (La retta interpolante cade all'interno delle barre d'errore?)\n",
    "###\n",
    "\n",
    "# Raccolgo qui i valori ottenuti mediante tutte le misure precedenti:\n",
    "\n",
    "a=array([acc[k] for k in sorted(acc)])\n",
    "da=array([dacc[k] for k in sorted(acc)])\n",
    "sina=array([sinalpha[k] for k in sorted(acc)])\n",
    "dsina=array([dsinalpha[k] for k in sorted(acc)])\n",
    "\n",
    "# Verifica legge lineare\n",
    "\n",
    "A, dA, B, dB = fit_lineare(sina, a)\n",
    "\n",
    "def fit_fun(x): \n",
    "    return A + B*x \n",
    "\n",
    "g=B; dg=dB; \n",
    "print(\"\\ng=%.2f, δg=%.2f, A=%.1f, δA=%.1f\\n\" % (g, dg, A, dA))   #show results\n",
    "\n",
    "dt=linspace(0.08,0.20)     \n",
    "plot(dt,fit_fun(dt))  \n",
    "errorbar(sina, a, xerr=dsina, yerr=da, ls='none')\n",
    "grid()"
   ]
  },
  {
   "cell_type": "markdown",
   "metadata": {},
   "source": [
    "### Calcolo di $g$ e $\\mu_k$\n",
    "Utilizzando i valori di $\\alpha$ e di $a$ ottenuti per due inclinazioni diverse, risolvete il sistema di due equazioni nelle due incognite $g$ e $\\mu_k$.\n",
    "L'attrito gioca un ruolo importante?"
   ]
  },
  {
   "cell_type": "code",
   "execution_count": null,
   "metadata": {
    "collapsed": false
   },
   "outputs": [],
   "source": [
    "cosa =sqrt(1-sina**2)\n",
    "\n",
    "### inserire espressione per g = \n",
    "### inserire espressione per mu = \n",
    "\n",
    "print(\"\\n μ=%.2f, g=%.2f cm/s^2\\n\" % (mu, g))   "
   ]
  },
  {
   "cell_type": "markdown",
   "metadata": {},
   "source": [
    "È possibile stimare $g$ e $\\mu_k$ mediante un fit lineare che utilizzi tutte le misure effettuate? \n",
    "\n",
    "[suggerimento: considerare la relazione lineare $y = Bx + A$ dove $y=\\frac{a}{\\cos\\alpha}$, $x=\\tan\\alpha$]"
   ]
  },
  {
   "cell_type": "code",
   "execution_count": null,
   "metadata": {
    "collapsed": false
   },
   "outputs": [],
   "source": [
    "cosa =sqrt(1-sina**2)\n",
    "\n",
    "### inserire comando che calcola il fit lineare\n",
    "\n",
    "print(\"\\n μ=%.2f, g=%.2f cm/s^2\\n\" % (mu, g))   "
   ]
  },
  {
   "cell_type": "markdown",
   "metadata": {},
   "source": [
    "Eseguire un'accurata analisi dell'errore. Quali momenti dell'esperimento sono maggiormente critici? su cosa si dovrebbe lavorare per ottenere misure più accurate?"
   ]
  },
  {
   "cell_type": "code",
   "execution_count": null,
   "metadata": {
    "collapsed": true
   },
   "outputs": [],
   "source": []
  }
 ],
 "metadata": {
  "kernelspec": {
   "display_name": "Python 2",
   "language": "python",
   "name": "python2"
  },
  "language_info": {
   "codemirror_mode": {
    "name": "ipython",
    "version": 2
   },
   "file_extension": ".py",
   "mimetype": "text/x-python",
   "name": "python",
   "nbconvert_exporter": "python",
   "pygments_lexer": "ipython2",
   "version": "2.7.13"
  }
 },
 "nbformat": 4,
 "nbformat_minor": 2
}
