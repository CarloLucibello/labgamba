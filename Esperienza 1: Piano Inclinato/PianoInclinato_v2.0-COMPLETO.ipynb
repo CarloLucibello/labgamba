{
 "cells": [
  {
   "cell_type": "markdown",
   "metadata": {},
   "source": [
    "## Determinazione dell'accelerazione di gravità mediante misure di moto uniformemente accelerato lungo un piano inclinato\n",
    "\n",
    "### Scopo dell'esperienza\n",
    "1. Verifica della legge oraria del moto uniformemente accelerato:\n",
    "    $$s(t)=s_\\mathrm{in}+v_\\mathrm{in} (t-t_\\mathrm{in})+\\frac{1}{2}a\\,(t-t_\\mathrm{in})^2$$\n",
    "\n",
    "2. Verifica della dipendenza lineare tra l'accelerazione del carrello e l'inclinazione del piano.\n",
    "3. Calcolo dell'accelerazione di gravità $g$ e del coefficiente di attrito $μ_k$ .\n",
    "\n",
    "### Materiali e strumenti utilizzati \n",
    "- rotaia rettilinea (piano inclinato) di lunghezza $L$;\n",
    "- treppiede con asta metallica verticale da infilare nell’aggancio della rotaia per inclinarla;\n",
    "- carrello (macchinina) con respingente magnetico (e propulsore a molla);\n",
    "- mascherina di plexiglas trasparente con tratti scuri variamente spaziati da fissare longitudinalmente sul carrello\n",
    "- metro a nastro e scala graduata lungo il piano inclinato;\n",
    "- livella\n",
    "- Smart Timer;\n",
    "- due traguardi a fotocellula da collegare allo Smart Timer;\n",
    "- questo notebook jupyter Python, dove annotare e analizzare i risultati dell'esperimento.\n",
    "\n",
    "<img src=\"apparato.png\">\n",
    "\n",
    "Il **fototraguardo** è basato su una coppia emettitore-rivelatore di raggi infrarossi a 880 nm, con un tempo caratteristica di salita di 500 ns e uno di discesa di 50 ns: un oggetto che passa attraverso il fototraguardo ostacola il fascio infrarosso provocando l'apertura del circuito. Per un oggetto che passa a 1 cm dal rivelatore infrarosso, con una velocità minore di 10 m/s, la differenza tra la lunghezza reale e quella misurata è minore di un millimetro. Documentazione [qui](https://www.sbai.uniroma1.it/labfis/strumentazione_sensori_pasco_fototraguardo.html)\n",
    "\n",
    "### Fondamenti Teorici\n",
    "\n",
    "Il moto senza attrito di un oggetto lungo un piano inclinato è uniformemente accelerato, secondo la legge oraria:\n",
    "\n",
    "$$s(t)=s_\\mathrm{in}+v_\\mathrm{in} (t-t_\\mathrm{in})+\\frac{1}{2}a\\,(t-t_\\mathrm{in})^2$$\n",
    "\n",
    "\n",
    "L’accelerazione $a$, in assenza di attrito, è legata all’accelerazione di gravità dalla semplice relazione  \n",
    "\n",
    "$$a=g\\sin\\alpha$$\n",
    " \n",
    "dove $\\alpha$ è l’angolo di cui è inclinato il piano. Nel nostro caso, e in riferimento alla figura, è $H=L\\sin\\alpha$, da cui \n",
    "\n",
    "$$a=g H/L$$.\n",
    "\n",
    "In presenza di una forza di attrito\n",
    " \n",
    "$$F_k =-\\mu_k m g\\cos\\alpha $$\n",
    "\n",
    "avremo invece\n",
    "\n",
    "$$ a = g(\\sin\\alpha - \\mu_k \\cos\\alpha)$$\n",
    "\n",
    "Nell'esperimento $t_0$ sarà relativo al primo sensore a fotocellula (indice 1) e t sarà relativo al secondo sensore a fotocellula (indice 2), da cui:\n",
    "\n",
    "$$\\Delta s=s_2-s_1=v_1\\,\\Delta t+\\frac{1}{2}a\\,\\Delta t^2\\qquad (1)$$\n",
    " \t\t\t \n",
    " avendo indicato con $s_2$ e $s_1$ le distanze dei 2 sensori a fotocellula dalla sommità della rotaia ($s_0=0$).\n",
    "\n",
    " \n",
    " ### Descrizione dell'Esperienza\n",
    " \n",
    " a) Determinare la posizione orizzontale della rotaia posizionando la rotaia stessa sul tavolo e posizionando il carrello al suo centro: se il carrello si muove, aggiustare la vite posta alla fine della rotaia finché il carrello non si muove più. Misurare l’altezza $h_{A0}$ tra il tavolo e il lato superiore dell'estremità della rotaia con arresto fisso con gommino, che sarà quella che successivamente sarà elevata. Misurare inoltre l'altezza $h_{B0}$ dal lato opposto.\n",
    "Avvalersi della livella per controllare che la rotaia non sia inclinata sia rispetto all'asse longitudinale che a quello trasversale. Si noti che è possibilire regolare l'altezza dei supporti del treppiede mediante delle viti. \n",
    " Il tavolo potrebbe essere non perfettamente orizzontale.\n",
    " Misurare anche la lunghezza $L$ della rotaia da un'estremità all'altra.\n",
    " \n",
    " <img src=\"fig_a1.png\">\n",
    " <img src=\"fig_a2.png\">\n",
    "\n",
    "\n",
    "\n",
    "b) Fissare il primo sensore a fotocellula a una trentina di cm dalla sommità ($s_0=0$) del piano inclinato (collegare il relativo cavo al canale 1 dello Smart Timer). Indicando con l’indice 1 tale sensore, la distanza del primo sensore dalla sommità sarà $s_1$. Valutare l’incertezza $δ(s_1)$ relativa alla misura di $s_1$.\n",
    "\n",
    "<img src=\"fig_b.png\">\n",
    "\n",
    "\n",
    "\n",
    "c) Accendere il sistema di acquisizione Smart Timer con l’interruttore posto sulla sinistra [I/O], premere il tasto 1 “Select Measurement” fino a scegliere la misura “TIME”, premere il tasto 2 “Select Mode” fino a scegliere la modalità “Two Gates” (si misurerà l’intervallo di tempo che intercorre tra il passaggio dal 1° al 2° fototraguardo).\n",
    "\n",
    "\n",
    "d) Regolare l'inclinazione del piano, verificando con la bolla che non vi sia una pendenza laterale. Misurare l’altezza $h_A$ della rotaia all’estremità alta (distanza tavolo – lato superiore della rotaia) e quella all'estremità bassa $h_B$: l’altezza $H$ da considerare sarà $H=(h_A-h_{A0}) - (h_B-h_{B0})$ (scegliere un angolo di inclinazione non troppo grande). Valutare l’incertezza $δ(H)$ relativa ad $H$.\n",
    "Calcolare l'angolo $\\sin \\alpha =H/L$ e la relativa incertezza.\n",
    "\n",
    "<img src=\"fig_d.png\">\n",
    "\n",
    "\n",
    "\n",
    "e) Fissare il secondo sensore a una distanza $\\Delta s$ di qualche centimetro (ad es. 10 cm) dal primo. Indicando con l’indice 2 tale sensore, la distanza del secondo sensore dalla sommità sarà $s_2$ e quindi $\\Delta s=s_2-s_1$. Valutare l’incertezza $\\delta(s_2)$ relativa alla misura di $s_2$; valutare l’incertezza $\\delta(\\Delta s)$ relativa a $\\Delta s$.\n",
    "\n",
    "<img src=\"fig_e.png\">\n",
    "\n",
    "f) Ripetere le seguenti operazioni 5 volte, senza variare la distanza tra i sensori:\n",
    "1. Premere il tasto 3 “Start” dello smart timer (si sente un suono e compare un asterisco sulla seconda riga dello strumento): a questo punto lo smart timer è attivo e pronto a ricevere gli impulsi dai fototraguardi e a mostrare il tempo t impiegato a percorrere lo spazio s tra i due sensori.\n",
    "2. Disporre il carrello alla sommità della rotaia e lasciarlo libero di scendere, avendo cura di non imprimere alcuna forza alla partenza (controllare che al passaggio sui due fototraguardi si illumini una spia rossa).\n",
    "3. Segnare il tempo t visualizzato (rimane visualizzato finché non si preme di nuovo “Start”) e l'incertezza associata. \n",
    "\n",
    "g) Ripetere le operazioni (e)-(f) 5 volte, TENENDO FISSA LA POSIZIONE DEL 1° SENSORE e cambiando quella del 2° in modo tale che la distanza $\\Delta s$ aumenti ogni volta (ad es. di 10 cm).\n",
    "\n",
    "h) Ripetere le misure del moto del carrello in discesa, secondo la procedura seguita in precedenza [operazioni (d)-(g)], per almeno 5 angoli di inclinazione $\\alpha_i$ diversi (ossia per almeno 4 diversi valori di $H_i$). Nel frattempo è possibile fittare e visualizzare i plot delle varie tranche nelle apposite celle del notebook.\n",
    "\n",
    "### Grandezze Utilizzate \n",
    "- $s_1$, $s_2$: distanza del primo e secondo sensore dalla sommità del piano;  $δ s_1$, $δ s_2$: incertezze nella misura di $s_1$ e $s_2$ \n",
    "- $\\Delta s= s_2 - s_1$: distanza tra i due sensori; $δ(\\Delta s)$: incertezza nella valutazione di $s$ \n",
    "- $\\Delta t_i$: $i$-esima misura del tempo di percorrenza tra $s_1$ e $s_2$\n",
    "- $\\alpha_i$ : angolo di inclinazione del piano rispetto all’orizzontale \n",
    "- $H$: differenza di quota tra l'estremità bassa e l’estremità alta della rotaia; $δ(H)$: incertezza nella valutazione di $H$\n",
    "- $L$: lunghezza rotaia; $δ(L)$: incertezza nella misura di $L$\n",
    "- $δ(\\overline{\\Delta t})$ : stima dell'incertezza su $\\overline{\\Delta t}$ come deviazione standard della media. \n",
    "\n",
    "\n",
    "### Fit Lineare\n",
    "Descriviamo qui come effettuare un fit dei coefficienti $A$ e $B$ nella funzione $y= A+ B x$, seconda la procedura dei minimi quadrati. \n",
    "Siano $x_i,y_i$,con $i=1,\\ldots,n$, i punti sperimentali, e definiamo  la funzione di costo\n",
    "\n",
    "$$ f(A,B) = \\sum_{i=1}^n (A + B x_i - y_i)^2 $$ .\n",
    "\n",
    "I valori ottimali di $A$ e $B$ sono ottenuti risolvendo il sistema di equazioni \n",
    "\n",
    "$$ \\frac{\\partial f}{\\partial A} = 0;\\qquad \\frac{\\partial f}{\\partial B} = 0. $$\n",
    "\n",
    "\n",
    "Introducendo i simboli\n",
    "\n",
    "$$ \\langle x\\rangle = \\frac{1}{n}\\sum_{i=1}^nx_i,\\quad\n",
    "\\langle x^2\\rangle = \\frac{1}{n}\\sum_{i=1}^nx_i^2,\\quad\n",
    "\\langle x y\\rangle = \\frac{1}{n}\\sum_{i=1}^nx_i y_i,\\quad\\mathrm{etc.}$$\n",
    "\n",
    "la soluzione del sistema è data da\n",
    "\n",
    "$$\n",
    "A=\\frac{\\langle x^2\\rangle\\langle  y\\rangle-\\langle x y\\rangle\\langle x\\rangle}{\\sigma^2_x};\\qquad\n",
    "B=\\frac{\\langle xy\\rangle-\\langle x\\rangle\\langle y\\rangle}{\\sigma^2_x},\n",
    "$$\n",
    "con \n",
    "$$ \\sigma^2_x = \\langle x^2\\rangle-\\langle x\\rangle^2$$.\n",
    "\n",
    "L'errore sui paramtetri fittati è stimato da\n",
    "$$\n",
    "\\delta A = r \\sqrt{\\frac{\\langle x^2\\rangle}{n\\sigma_x^2}};\\qquad\n",
    "\\delta B = r \\sqrt{\\frac{1}{n\\sigma_x^2}}\n",
    "$$\n",
    "con il residuo $r$ dato da\n",
    "    $$ r^2= \\frac{1}{n-2}\\sum_i (A + B x_i -y_i)^2$$\n",
    "\n",
    "    \n",
    "### Fit Quadratico\n",
    "Per verificare la bontà di Eq. (1) nel descrivere i dati sperimentali, bisogna effettuare un fit dei coefficienti $A$ e $B$ nella funzione $y= A x^2 + B x$, seconda la procedura dei minimi quadrati. \n",
    "Siano $x_i,y_i$,con $i=1,\\ldots,n$, i punti sperimentali, e definiamo  la funzione\n",
    "\n",
    "$$ f(A,B) = \\sum_{i=1}^n (A x_i^2 + B x_i - y_i)^2 $$ .\n",
    "\n",
    "I valori ottimali di $A$ e $B$ sono ottenuti risolvendo il sistema di equazioni \n",
    "\n",
    "$$ \\frac{\\partial f}{\\partial A} = 0;\\qquad \\frac{\\partial f}{\\partial B} = 0. $$\n",
    "\n",
    "Usando la notazione $\\langle \\bullet \\rangle$ del paragrafo precedente, la soluzione del sistema è data da\n",
    "\n",
    "$$\n",
    "A=\\frac{\\langle x^2 y\\rangle\\langle x^2\\rangle-\\langle x y\\rangle\\langle x^3\\rangle}{\\Sigma_x};\\quad\n",
    "B=\\frac{\\langle xy\\rangle\\langle x^4\\rangle-\\langle x^3\\rangle\\langle x^2 y\\rangle}{\\Sigma_x},\n",
    "$$\n",
    "con \n",
    "$$ \\Sigma_x = \\langle x^2\\rangle\\langle x^4\\rangle-\\langle x^3\\rangle^2$$\n",
    "\n",
    "L'errore sui paramtetri fittati è stimato da\n",
    "$$\n",
    "\\delta A = r \\sqrt{\\frac{\\langle x^2\\rangle}{n\\Sigma_x}};\\qquad\n",
    "\\delta B = r \\sqrt{\\frac{\\langle x^4\\rangle}{n\\Sigma_x}}\n",
    "$$\n",
    "con il residuo $r$ dato da\n",
    "    $$ r^2= \\frac{1}{n-2}\\sum_i (A x_i^2 + B x_i -y_i)^2$$\n",
    "\n",
    "### Propagazione degli errori\n",
    "Ricordiamo la formula di propagazione degli errori per una quantità $\\beta = f(x,y,\\dots)$:\n",
    "\n",
    "$$\\delta^2(\\beta) = \\left(\\frac{\\partial f}{\\partial x}\\right)^2 \\delta^2(x) + \\left(\\frac{\\partial f}{\\partial y}\\right)^2 \\delta^2(y) + \\ldots $$\n",
    "\n",
    "### Utilizzo del notebook Python\n",
    "- le celle possono trovarsi in due stati: \n",
    "    1) command mode (blu, premendo esc) \n",
    "    2) edit mode (verde, per modificare il contenuto, premendo enter)\n",
    "- tipi di cella: standard (per scrivere il codice python) o testo (markdown)\n",
    "- copia e incolla con C e V in command mode\n",
    "- potete usare quaderni o file excel, ma alla fine dell'esperienza i dati raccolti dovranno\n",
    "trovarsi nelle celle apposite di questo notebook (quindi potrebbe convenirvi scriverli direttamente qua)\n",
    "- aggiungere note, commenti, celle\n",
    "- esegui cella: shift-invio, ctrl-invio\n",
    "- cancella intera cella: dd in command mode\n",
    "- inserisci nuova cella below: B in command mode\n",
    "- caratteri greci: \\Delta\"Tab\"\n",
    "- inserisci commenti con `#`. Può essere utile commentare delle linee di codice per trovare l'errore quando una cella non compila.\n",
    "\n",
    "\n",
    "### Note\n",
    "- riportare una sola cifra significativa per le incertezze; \n",
    "- quando si scrivono misure di grandezze non riportare più cifre significative di quelle coperte dall'incertezza e ricordarsi delle unità di misura; \n",
    "- riportare le formule usate per calcolare i risultati e per determinare le incertezze; \n",
    "- sforzarsi di fare osservazioni e commenti propri e, se si ritiene opportuno, sperimentare, motivando, anche cose diverse da quelle suggerite. \n",
    "\n",
    "\n"
   ]
  },
  {
   "cell_type": "markdown",
   "metadata": {},
   "source": [
    "## @@@@@@@@     INIZIO ESPERIENZA   @@@@@@@@"
   ]
  },
  {
   "cell_type": "markdown",
   "metadata": {},
   "source": [
    "### Imports e Definizioni"
   ]
  },
  {
   "cell_type": "code",
   "execution_count": 2,
   "metadata": {
    "collapsed": false
   },
   "outputs": [
    {
     "name": "stdout",
     "output_type": "stream",
     "text": [
      "Populating the interactive namespace from numpy and matplotlib\n"
     ]
    }
   ],
   "source": [
    "%pylab inline\n",
    "from pandas import DataFrame"
   ]
  },
  {
   "cell_type": "code",
   "execution_count": 3,
   "metadata": {
    "collapsed": false
   },
   "outputs": [],
   "source": [
    "def fit_lineare(x,y):                     # prototipo di funzione da completare\n",
    "    \"\"\"\n",
    "    Questa funzione restituisce termine noto e coefficiente angolare della retta interpolante A + Bx ed il relativo errore\n",
    "    \"\"\"\n",
    "    mx = mean(x)\n",
    "    mx2 = mean(x*x)\n",
    "    mxy = mean(x*y)\n",
    "    my = mean(y)\n",
    "    D = mx2 - mx**2\n",
    "    A = (mx2 *my - mxy*mx) / D\n",
    "    B = (mxy - mx*my) / D\n",
    "    \n",
    "    n = len(x)\n",
    "    r = sqrt(sum((A + B*x - y)**2) / (n-2))\n",
    "    δA = r * sqrt(mx2 / (n*D))\n",
    "    δB = r * sqrt(1 / (n*D))\n",
    "    \n",
    "    return A, δA, B, δB"
   ]
  },
  {
   "cell_type": "code",
   "execution_count": 8,
   "metadata": {
    "collapsed": false
   },
   "outputs": [],
   "source": [
    "def fit_quadratico(x,y):        \n",
    "    \"\"\"\n",
    "    Questa funzione restituisce i coefficienti parabola interpolante Ax^2 + Bx ed il relativo errore\n",
    "    \"\"\"\n",
    "    mx = mean(x)\n",
    "    mx2 = mean(x*x)\n",
    "    mx3 = mean(x**3)\n",
    "    mx4 = mean(x**4)\n",
    "    mxy = mean(x*y)\n",
    "    mx2y = mean(x*x*y)\n",
    "    \n",
    "    D = mx2*mx4 - mx3**2\n",
    "    A = (mx2y*mx2 - mxy*mx3) / D\n",
    "    B = (mxy*mx4 - mx3*mx2y) / D\n",
    "    \n",
    "    n = len(x)\n",
    "    r = sqrt(sum((A*x**2+B*x - y)**2) / (n-2))\n",
    "    δA = r * sqrt(mx2 / (n*D))\n",
    "    δB = r * sqrt(mx4 / (n*D))\n",
    "    \n",
    "    return A, δA, B, δB"
   ]
  },
  {
   "cell_type": "markdown",
   "metadata": {},
   "source": [
    "### Raccolta Dati"
   ]
  },
  {
   "cell_type": "markdown",
   "metadata": {},
   "source": [
    "#### Round 1"
   ]
  },
  {
   "cell_type": "code",
   "execution_count": 73,
   "metadata": {
    "collapsed": false
   },
   "outputs": [
    {
     "name": "stdout",
     "output_type": "stream",
     "text": [
      "H = 18.6 +/- 0.2 cm;  sinα = 0.141 +/- 0.002\n",
      "\n"
     ]
    },
    {
     "data": {
      "text/html": [
       "<div>\n",
       "<table border=\"1\" class=\"dataframe\">\n",
       "  <thead>\n",
       "    <tr style=\"text-align: right;\">\n",
       "      <th>serie</th>\n",
       "      <th>Δs</th>\n",
       "      <th>δ(Δs)</th>\n",
       "      <th>Δt̅</th>\n",
       "      <th>δ(Δt̅)</th>\n",
       "    </tr>\n",
       "  </thead>\n",
       "  <tbody>\n",
       "    <tr>\n",
       "      <th>1</th>\n",
       "      <td>20.0</td>\n",
       "      <td>0.2</td>\n",
       "      <td>0.23730</td>\n",
       "      <td>0.000152</td>\n",
       "    </tr>\n",
       "    <tr>\n",
       "      <th>2</th>\n",
       "      <td>30.0</td>\n",
       "      <td>0.2</td>\n",
       "      <td>0.32884</td>\n",
       "      <td>0.000024</td>\n",
       "    </tr>\n",
       "    <tr>\n",
       "      <th>3</th>\n",
       "      <td>40.0</td>\n",
       "      <td>0.2</td>\n",
       "      <td>0.40922</td>\n",
       "      <td>0.000233</td>\n",
       "    </tr>\n",
       "    <tr>\n",
       "      <th>4</th>\n",
       "      <td>50.0</td>\n",
       "      <td>0.2</td>\n",
       "      <td>0.48624</td>\n",
       "      <td>0.000268</td>\n",
       "    </tr>\n",
       "  </tbody>\n",
       "</table>\n",
       "</div>"
      ],
      "text/plain": [
       "serie    Δs  δ(Δs)      Δt̅    δ(Δt̅)\n",
       "1      20.0    0.2  0.23730  0.000152\n",
       "2      30.0    0.2  0.32884  0.000024\n",
       "3      40.0    0.2  0.40922  0.000233\n",
       "4      50.0    0.2  0.48624  0.000268"
      ]
     },
     "execution_count": 73,
     "metadata": {},
     "output_type": "execute_result"
    }
   ],
   "source": [
    "hA0 = 2.8; hA = 21.4; δh = 0.1    # altezza della sommità del piano e relativa incertezza [cm]\n",
    "hB0= 2.8; hB=2.8\n",
    "H = hA-hA0 - (hB-hB0); δH = 0.2 \n",
    "L = 132.0; δL=0.1 \n",
    "sinα = H / L; \n",
    "δsinα = sqrt( (1/L * δH)**2 + (H/L**2 * δL)**2)  \n",
    "print('H = %.1f +/- %.1f cm;  sinα = %.3f +/- %.3f\\n' % (H,δH,sinα,δsinα))\n",
    "\n",
    "# Inserisci qua le misurazioni di Δt\n",
    "Δt = array([\n",
    "    [\n",
    "    0.2370,\n",
    "    0.2369,\n",
    "    0.2374,\n",
    "    0.2377,\n",
    "    0.2375],\n",
    "   \n",
    "    [0.3289,\n",
    "    0.3289,\n",
    "    0.3288,\n",
    "    0.3288,\n",
    "    0.3288],\n",
    "    \n",
    "    [0.4083,\n",
    "    0.4096,\n",
    "    0.4094,\n",
    "    0.4094,\n",
    "    0.4094],\n",
    "    \n",
    "    [0.4855,\n",
    "    0.4860,\n",
    "    0.4871,\n",
    "    0.4861,\n",
    "    0.4865]\n",
    "])\n",
    "\n",
    "# Inserisci qua le misurazioni di Δs\n",
    "Δs = array([\n",
    "        20.0, \n",
    "        30.0, \n",
    "        40.0,\n",
    "        50.0\n",
    "    ])\n",
    "\n",
    "\n",
    "# Inserisci qua gli errori su Δs\n",
    "δΔs = array([ \n",
    "        0.2, \n",
    "        0.2, \n",
    "        0.2,\n",
    "        0.2\n",
    "    ])\n",
    "\n",
    "n = len(Δt[0]) \n",
    "Δt̅ = mean(Δt,1)\n",
    "δΔt̅ = std(Δt,1) / sqrt(n-1)    #errore sulla media\n",
    "\n",
    "df = DataFrame({'Δs':Δs, 'δ(Δs)':δΔs, 'Δt̅':Δt̅, 'δ(Δt̅)':δΔt̅})\n",
    "df = df[['Δs', 'δ(Δs)', 'Δt̅','δ(Δt̅)']]    #assicura che le colonne siano stampate nell'ordine giusto\n",
    "df.index=df.index+1   \n",
    "df.columns.name='serie'                    # assegno un nome alla prima colonna \n",
    "df.round(3)                                 # stampo la tabella con un massimo di 3 decimali di precisione\n",
    "df"
   ]
  },
  {
   "cell_type": "code",
   "execution_count": 75,
   "metadata": {
    "collapsed": false
   },
   "outputs": [
    {
     "name": "stdout",
     "output_type": "stream",
     "text": [
      "\n",
      "v1 = 66.9 +/- 1.0 cm/s,  a = 148.4 +/- 5.0 cm/s^2\n",
      "\n"
     ]
    },
    {
     "data": {
      "image/png": "[encoded data removed]",
      "text/plain": [
       "<matplotlib.figure.Figure at 0x7fd22e2bea58>"
      ]
     },
     "metadata": {},
     "output_type": "display_data"
    }
   ],
   "source": [
    "# Verifica legge quadratica. Eseguire prima la cella di sopra\n",
    "A, δA, B, δB = fit_quadratico(df['Δt̅'], df['Δs'])\n",
    "\n",
    "def fit_fun(x): return A*x**2 + B*x \n",
    "\n",
    "df.plot(x='Δt̅',y='Δs',xerr='δ(Δt̅)',yerr='δ(Δs)',kind='scatter',grid=True) #plotta i punti sperimentali\n",
    "\n",
    "dt=linspace(0.2,0.5)     # range dell'asse x\n",
    "plot(dt,fit_fun(dt))  #plotta il fit\n",
    "v1=B; δv1=δB; a= 2*A; δa = 2*δA\n",
    "\n",
    "print(\"\\nv1 = %.1f +/- %.1f cm/s,  a = %.1f +/- %.1f cm/s^2\\n\" % (v1, δv1, a, δa))   #show results"
   ]
  },
  {
   "cell_type": "code",
   "execution_count": null,
   "metadata": {
    "collapsed": true
   },
   "outputs": [],
   "source": []
  },
  {
   "cell_type": "markdown",
   "metadata": {},
   "source": [
    "#### Round 2 (copia le due celle qui sopra, modifica $H$, ripeti gli esperimenti,)"
   ]
  },
  {
   "cell_type": "code",
   "execution_count": 76,
   "metadata": {
    "collapsed": false
   },
   "outputs": [
    {
     "name": "stdout",
     "output_type": "stream",
     "text": [
      "H = 11.4 +/- 0.2 cm;  sinα = 0.086 +/- 0.002\n",
      "\n"
     ]
    },
    {
     "data": {
      "text/html": [
       "<div>\n",
       "<table border=\"1\" class=\"dataframe\">\n",
       "  <thead>\n",
       "    <tr style=\"text-align: right;\">\n",
       "      <th>serie</th>\n",
       "      <th>Δs</th>\n",
       "      <th>δ(Δs)</th>\n",
       "      <th>Δt̅</th>\n",
       "      <th>δ(Δt̅)</th>\n",
       "    </tr>\n",
       "  </thead>\n",
       "  <tbody>\n",
       "    <tr>\n",
       "      <th>1</th>\n",
       "      <td>20.0</td>\n",
       "      <td>0.2</td>\n",
       "      <td>0.30204</td>\n",
       "      <td>0.000189</td>\n",
       "    </tr>\n",
       "    <tr>\n",
       "      <th>2</th>\n",
       "      <td>30.0</td>\n",
       "      <td>0.2</td>\n",
       "      <td>0.41702</td>\n",
       "      <td>0.000409</td>\n",
       "    </tr>\n",
       "    <tr>\n",
       "      <th>3</th>\n",
       "      <td>40.0</td>\n",
       "      <td>0.2</td>\n",
       "      <td>0.52082</td>\n",
       "      <td>0.000368</td>\n",
       "    </tr>\n",
       "    <tr>\n",
       "      <th>4</th>\n",
       "      <td>50.0</td>\n",
       "      <td>0.2</td>\n",
       "      <td>0.61396</td>\n",
       "      <td>0.000383</td>\n",
       "    </tr>\n",
       "  </tbody>\n",
       "</table>\n",
       "</div>"
      ],
      "text/plain": [
       "serie    Δs  δ(Δs)      Δt̅    δ(Δt̅)\n",
       "1      20.0    0.2  0.30204  0.000189\n",
       "2      30.0    0.2  0.41702  0.000409\n",
       "3      40.0    0.2  0.52082  0.000368\n",
       "4      50.0    0.2  0.61396  0.000383"
      ]
     },
     "execution_count": 76,
     "metadata": {},
     "output_type": "execute_result"
    }
   ],
   "source": [
    "h0 = 2.8; h1 = 14.2; δh = 0.1    # altezza della sommità del piano e relativa incertezza [cm]\n",
    "H = h1 - h0; δH = 0.2\n",
    "L = 132.0; δL=0.1 \n",
    "sinα = H / L; \n",
    "δsinα = sqrt( (1/L * δH)**2 + (H/L**2 * δH)**2)  \n",
    "print('H = %.1f +/- %.1f cm;  sinα = %.3f +/- %.3f\\n' % (H,δH,sinα,δsinα))\n",
    "\n",
    "\n",
    "Δt = array([\n",
    "    [0.3022,\n",
    "    0.3027,\n",
    "    0.3017,\n",
    "    0.3019,\n",
    "    0.3017,],\n",
    "   \n",
    "    [\n",
    "    0.4165,\n",
    "    0.4163,\n",
    "    0.4186,\n",
    "    0.4168,\n",
    "    0.4169],\n",
    "    \n",
    "    [\n",
    "    0.5201,\n",
    "    0.5204,\n",
    "    0.5209,\n",
    "    0.5205,\n",
    "    0.5222],\n",
    "    \n",
    "    [\n",
    "    0.6137,\n",
    "    0.6140,\n",
    "    0.6127,\n",
    "    0.6150,\n",
    "    0.6144]\n",
    "])\n",
    "\n",
    "# Inserisci qua le misurazioni di Δs\n",
    "Δs = array([\n",
    "        20.0, \n",
    "        30.0, \n",
    "        40.0,\n",
    "        50.0\n",
    "    ])\n",
    "\n",
    "\n",
    "# Inserisci qua gli errori su Δs\n",
    "δΔs = array([ \n",
    "        0.2, \n",
    "        0.2, \n",
    "        0.2,\n",
    "        0.2\n",
    "    ])\n",
    "\n",
    "n = len(Δt[0]) \n",
    "Δt̅ = mean(Δt,1)\n",
    "δΔt̅ = std(Δt,1) / sqrt(n-1)    #errore sulla media\n",
    "\n",
    "df = DataFrame({'Δs':Δs, 'δ(Δs)':δΔs, 'Δt̅':Δt̅, 'δ(Δt̅)':δΔt̅})\n",
    "df = df[['Δs', 'δ(Δs)', 'Δt̅','δ(Δt̅)']]    #assicura che le colonne siano stampate nell'ordine giusto\n",
    "df.index=df.index+1   \n",
    "df.columns.name='serie'                    # assegno un nome alla prima colonna \n",
    "df.round(3)                                 # stampo la tabella con un massimo di 3 decimali di precisione\n",
    "df"
   ]
  },
  {
   "cell_type": "code",
   "execution_count": 77,
   "metadata": {
    "collapsed": false
   },
   "outputs": [
    {
     "name": "stdout",
     "output_type": "stream",
     "text": [
      "\n",
      "v1 = 51.6 +/- 0.2 cm/s,  a = 97.2 +/- 0.9 cm/s^2\n",
      "\n"
     ]
    },
    {
     "data": {
      "image/png": "[encoded data removed]",
      "text/plain": [
       "<matplotlib.figure.Figure at 0x7fd22e110cc0>"
      ]
     },
     "metadata": {},
     "output_type": "display_data"
    }
   ],
   "source": [
    "# Verifica legge quadratica. Eseguire prima la cella di sopra\n",
    "A, δA, B, δB = fit_quadratico(df['Δt̅'], df['Δs'])\n",
    "\n",
    "def fit_fun(x): return A*x**2 + B*x \n",
    "\n",
    "df.plot(x='Δt̅',y='Δs',xerr='δ(Δt̅)',yerr='δ(Δs)',kind='scatter',grid=True) #plotta i punti sperimentali\n",
    "\n",
    "dt=linspace(0.1,0.6)     # range dell'asse x\n",
    "plot(dt,fit_fun(dt))  #plotta il fit\n",
    "v1=B; δv1=δB; a= 2*A; δa = 2*δA\n",
    "\n",
    "print(\"\\nv1 = %.1f +/- %.1f cm/s,  a = %.1f +/- %.1f cm/s^2\\n\" % (v1, δv1, a, δa))   #show results"
   ]
  },
  {
   "cell_type": "markdown",
   "metadata": {},
   "source": [
    "#### Round 3 (copia le due celle qui sopra, modifica $H$, ripeti gli esperimenti,)"
   ]
  },
  {
   "cell_type": "code",
   "execution_count": 78,
   "metadata": {
    "collapsed": false
   },
   "outputs": [
    {
     "name": "stdout",
     "output_type": "stream",
     "text": [
      "H = 11.8 +/- 0.2 cm;  sinα = 0.089 +/- 0.002\n",
      "\n"
     ]
    },
    {
     "data": {
      "text/html": [
       "<div>\n",
       "<table border=\"1\" class=\"dataframe\">\n",
       "  <thead>\n",
       "    <tr style=\"text-align: right;\">\n",
       "      <th>serie</th>\n",
       "      <th>Δs</th>\n",
       "      <th>δ(Δs)</th>\n",
       "      <th>Δt̅</th>\n",
       "      <th>δ(Δt̅)</th>\n",
       "    </tr>\n",
       "  </thead>\n",
       "  <tbody>\n",
       "    <tr>\n",
       "      <th>1</th>\n",
       "      <td>20.0</td>\n",
       "      <td>0.2</td>\n",
       "      <td>0.29958</td>\n",
       "      <td>0.000856</td>\n",
       "    </tr>\n",
       "    <tr>\n",
       "      <th>2</th>\n",
       "      <td>30.0</td>\n",
       "      <td>0.2</td>\n",
       "      <td>0.41441</td>\n",
       "      <td>0.000444</td>\n",
       "    </tr>\n",
       "    <tr>\n",
       "      <th>3</th>\n",
       "      <td>40.0</td>\n",
       "      <td>0.2</td>\n",
       "      <td>0.51756</td>\n",
       "      <td>0.000215</td>\n",
       "    </tr>\n",
       "    <tr>\n",
       "      <th>4</th>\n",
       "      <td>50.0</td>\n",
       "      <td>0.2</td>\n",
       "      <td>0.61217</td>\n",
       "      <td>0.000507</td>\n",
       "    </tr>\n",
       "  </tbody>\n",
       "</table>\n",
       "</div>"
      ],
      "text/plain": [
       "serie    Δs  δ(Δs)      Δt̅    δ(Δt̅)\n",
       "1      20.0    0.2  0.29958  0.000856\n",
       "2      30.0    0.2  0.41441  0.000444\n",
       "3      40.0    0.2  0.51756  0.000215\n",
       "4      50.0    0.2  0.61217  0.000507"
      ]
     },
     "execution_count": 78,
     "metadata": {},
     "output_type": "execute_result"
    }
   ],
   "source": [
    "hA0 = 3.0; hA = 14.8; δh = 0.1    # altezza della sommità del piano e relativa incertezza [cm]\n",
    "hB0= 2.8; hB=2.8\n",
    "H = hA-hA0 - (hB-hB0); δH = 0.2 \n",
    "L = 132.0; δL=0.1 \n",
    "sinα = H / L; \n",
    "δsinα = sqrt( (1/L * δH)**2 + (H/L**2 * δL)**2)  \n",
    "print('H = %.1f +/- %.1f cm;  sinα = %.3f +/- %.3f\\n' % (H,δH,sinα,δsinα))\n",
    "\n",
    "# Inserisci qua le misurazioni di Δt\n",
    "Δt = array([\n",
    "    [\n",
    "    0.3070, \n",
    "    0.2994,\n",
    "    0.2988,\n",
    "    0.2979,\n",
    "    0.3002,\n",
    "    0.2993,\n",
    "    0.2979,\n",
    "    0.2985,\n",
    "    0.2981,\n",
    "    0.2987\n",
    "    ],\n",
    "   \n",
    "    [0.4157,\n",
    "    0.4145,\n",
    "    0.4143,\n",
    "    0.4142,\n",
    "    0.4141,\n",
    "    0.4169,\n",
    "    0.4158,\n",
    "    0.4134,\n",
    "    0.4129,\n",
    "    0.4123\n",
    "    ],\n",
    "    \n",
    "    [0.5173,\n",
    "    0.5180,\n",
    "    0.5170,\n",
    "    0.5170,\n",
    "    0.5170,\n",
    "    0.5184,\n",
    "    0.5169,\n",
    "    0.5185,\n",
    "    0.5171,\n",
    "    0.5184\n",
    "    ],\n",
    "    \n",
    "    [0.6146,\n",
    "    0.6130,\n",
    "    0.6130,\n",
    "    0.6122,\n",
    "    0.6118,\n",
    "    0.6119,\n",
    "    0.6104,\n",
    "    0.6143,\n",
    "    0.6108,\n",
    "    0.6097\n",
    "    ]\n",
    "])\n",
    "\n",
    "# Inserisci qua le misurazioni di Δs\n",
    "Δs = array([\n",
    "        20.0, \n",
    "        30.0, \n",
    "        40.0,\n",
    "        50.0\n",
    "    ])\n",
    "\n",
    "# Inserisci qua gli errori su Δs\n",
    "δΔs = array([ \n",
    "        0.2, \n",
    "        0.2, \n",
    "        0.2,\n",
    "        0.2\n",
    "    ])\n",
    "\n",
    "n = len(Δt[0]) \n",
    "Δt̅ = mean(Δt,1)\n",
    "δΔt̅ = std(Δt,1) / sqrt(n-1)    #errore sulla media\n",
    "\n",
    "df = DataFrame({'Δs':Δs, 'δ(Δs)':δΔs, 'Δt̅':Δt̅, 'δ(Δt̅)':δΔt̅})\n",
    "df = df[['Δs', 'δ(Δs)', 'Δt̅','δ(Δt̅)']]    #assicura che le colonne siano stampate nell'ordine giusto\n",
    "df.index=df.index+1   \n",
    "df.columns.name='serie'                    # assegno un nome alla prima colonna \n",
    "df.round(3)                                 # stampo la tabella con un massimo di 3 decimali di precisione\n",
    "df"
   ]
  },
  {
   "cell_type": "code",
   "execution_count": 55,
   "metadata": {
    "collapsed": false
   },
   "outputs": [
    {
     "name": "stdout",
     "output_type": "stream",
     "text": [
      "\n",
      "v1 = 52.7 +/- 0.2 cm/s,  a = 94.9 +/- 0.9 cm/s^2\n",
      "\n"
     ]
    },
    {
     "data": {
      "image/png": "[encoded data removed]",
      "text/plain": [
       "<matplotlib.figure.Figure at 0x7fd22e3c9240>"
      ]
     },
     "metadata": {},
     "output_type": "display_data"
    }
   ],
   "source": [
    "# Verifica legge quadratica. Eseguire prima la cella di sopra\n",
    "A, δA, B, δB = fit_quadratico(df['Δt̅'], df['Δs'])\n",
    "\n",
    "def fit_fun(x): return A*x**2 + B*x \n",
    "\n",
    "df.plot(x='Δt̅',y='Δs',xerr='δ(Δt̅)',yerr='δ(Δs)',kind='scatter',grid=True) #plotta i punti sperimentali\n",
    "\n",
    "dt=linspace(0.1,0.6)     # range dell'asse x\n",
    "plot(dt,fit_fun(dt))  #plotta il fit\n",
    "v1=B; δv1=δB; a= 2*A; δa = 2*δA\n",
    "\n",
    "print(\"\\nv1 = %.1f +/- %.1f cm/s,  a = %.1f +/- %.1f cm/s^2\\n\" % (v1, δv1, a, δa))   #show results"
   ]
  },
  {
   "cell_type": "markdown",
   "metadata": {},
   "source": [
    "#### Round 4 (copia le due celle qui sopra, modifica $H$, ripeti gli esperimenti,)"
   ]
  },
  {
   "cell_type": "code",
   "execution_count": 80,
   "metadata": {
    "collapsed": false
   },
   "outputs": [
    {
     "name": "stdout",
     "output_type": "stream",
     "text": [
      "H = 20.8 +/- 0.2 cm;  sinα = 0.158 +/- 0.002\n",
      "\n"
     ]
    },
    {
     "data": {
      "text/html": [
       "<div>\n",
       "<table border=\"1\" class=\"dataframe\">\n",
       "  <thead>\n",
       "    <tr style=\"text-align: right;\">\n",
       "      <th>serie</th>\n",
       "      <th>Δs</th>\n",
       "      <th>δ(Δs)</th>\n",
       "      <th>Δt̅</th>\n",
       "      <th>δ(Δt̅)</th>\n",
       "    </tr>\n",
       "  </thead>\n",
       "  <tbody>\n",
       "    <tr>\n",
       "      <th>1</th>\n",
       "      <td>20.0</td>\n",
       "      <td>0.2</td>\n",
       "      <td>0.22908</td>\n",
       "      <td>0.000263</td>\n",
       "    </tr>\n",
       "    <tr>\n",
       "      <th>2</th>\n",
       "      <td>30.0</td>\n",
       "      <td>0.2</td>\n",
       "      <td>0.31800</td>\n",
       "      <td>0.000113</td>\n",
       "    </tr>\n",
       "    <tr>\n",
       "      <th>3</th>\n",
       "      <td>40.0</td>\n",
       "      <td>0.2</td>\n",
       "      <td>0.39838</td>\n",
       "      <td>0.000280</td>\n",
       "    </tr>\n",
       "    <tr>\n",
       "      <th>4</th>\n",
       "      <td>50.0</td>\n",
       "      <td>0.2</td>\n",
       "      <td>0.47123</td>\n",
       "      <td>0.000516</td>\n",
       "    </tr>\n",
       "  </tbody>\n",
       "</table>\n",
       "</div>"
      ],
      "text/plain": [
       "serie    Δs  δ(Δs)      Δt̅    δ(Δt̅)\n",
       "1      20.0    0.2  0.22908  0.000263\n",
       "2      30.0    0.2  0.31800  0.000113\n",
       "3      40.0    0.2  0.39838  0.000280\n",
       "4      50.0    0.2  0.47123  0.000516"
      ]
     },
     "execution_count": 80,
     "metadata": {},
     "output_type": "execute_result"
    }
   ],
   "source": [
    "hA0 = 3.0; hA = 23.8; δh = 0.1    # altezza della sommità del piano e relativa incertezza [cm]\n",
    "hB0= 2.8; hB=2.8\n",
    "H = hA-hA0 - (hB-hB0); δH = 0.2 \n",
    "L = 132.0; δL=0.1 \n",
    "sinα = H / L; \n",
    "δsinα = sqrt( (1/L * δH)**2 + (H/L**2 * δL)**2)  \n",
    "print('H = %.1f +/- %.1f cm;  sinα = %.3f +/- %.3f\\n' % (H,δH,sinα,δsinα))\n",
    "\n",
    "# Inserisci qua le misurazioni di Δt\n",
    "Δt = array([\n",
    "    [\n",
    "    0.2288,\n",
    "    0.2285,\n",
    "    0.2285,\n",
    "    0.2288,\n",
    "    0.2312,\n",
    "    0.2295,\n",
    "    0.2295,\n",
    "    0.2287,\n",
    "    0.2285,\n",
    "    0.2288\n",
    "\n",
    "    ],\n",
    "   \n",
    "    [0.3181,\n",
    "    0.3179,\n",
    "    0.3180,\n",
    "    0.3180,\n",
    "    0.3179,\n",
    "    0.3183,\n",
    "    0.3175,\n",
    "    0.3178,\n",
    "    0.3188,\n",
    "    0.3177\n",
    "\n",
    "    ],\n",
    "    \n",
    "    [0.3993,\n",
    "    0.3983,\n",
    "    0.3975,\n",
    "    0.3977,\n",
    "    0.3987,\n",
    "    0.3997,\n",
    "    0.3996,\n",
    "    0.3976,\n",
    "    0.3975,\n",
    "    0.3979\n",
    "    ],\n",
    "    \n",
    "    [0.4755,\n",
    "    0.4699,\n",
    "    0.4709,\n",
    "    0.4700,\n",
    "    0.4715,\n",
    "    0.4705,\n",
    "    0.4701,\n",
    "    0.4718,\n",
    "    0.4712,\n",
    "    0.4709\n",
    "    ]\n",
    "])\n",
    "\n",
    "# Inserisci qua le misurazioni di Δs\n",
    "Δs = array([\n",
    "        20.0, \n",
    "        30.0, \n",
    "        40.0,\n",
    "        50.0\n",
    "    ])\n",
    "\n",
    "# Inserisci qua gli errori su Δs\n",
    "δΔs = array([ \n",
    "        0.2, \n",
    "        0.2, \n",
    "        0.2,\n",
    "        0.2\n",
    "    ])\n",
    "\n",
    "n = len(Δt[0]) \n",
    "Δt̅ = mean(Δt,1)\n",
    "δΔt̅ = std(Δt,1) / sqrt(n-1)    #errore sulla media\n",
    "\n",
    "df = DataFrame({'Δs':Δs, 'δ(Δs)':δΔs, 'Δt̅':Δt̅, 'δ(Δt̅)':δΔt̅})\n",
    "df = df[['Δs', 'δ(Δs)', 'Δt̅','δ(Δt̅)']]    #assicura che le colonne siano stampate nell'ordine giusto\n",
    "df.index=df.index+1   \n",
    "df.columns.name='serie'                    # assegno un nome alla prima colonna \n",
    "df.round(3)                                 # stampo la tabella con un massimo di 3 decimali di precisione\n",
    "df"
   ]
  },
  {
   "cell_type": "code",
   "execution_count": 81,
   "metadata": {
    "collapsed": false
   },
   "outputs": [
    {
     "name": "stdout",
     "output_type": "stream",
     "text": [
      "\n",
      "v1 = 69.7 +/- 0.2 cm/s,  a = 154.6 +/- 1.0 cm/s^2\n",
      "\n"
     ]
    },
    {
     "data": {
      "image/png": "[encoded data removed]",
      "text/plain": [
       "<matplotlib.figure.Figure at 0x7fd22df42e10>"
      ]
     },
     "metadata": {},
     "output_type": "display_data"
    }
   ],
   "source": [
    "# Verifica legge quadratica. Eseguire prima la cella di sopra\n",
    "A, δA, B, δB = fit_quadratico(df['Δt̅'], df['Δs'])\n",
    "\n",
    "def fit_fun(x): return A*x**2 + B*x \n",
    "\n",
    "df.plot(x='Δt̅',y='Δs',xerr='δ(Δt̅)',yerr='δ(Δs)',kind='scatter',grid=True) #plotta i punti sperimentali\n",
    "\n",
    "dt=linspace(0.1,0.6)     # range dell'asse x\n",
    "plot(dt,fit_fun(dt))  #plotta il fit\n",
    "v1=B; δv1=δB; a= 2*A; δa = 2*δA\n",
    "\n",
    "print(\"\\nv1 = %.1f +/- %.1f cm/s,  a = %.1f +/- %.1f cm/s^2\\n\" % (v1, δv1, a, δa))   #show results"
   ]
  },
  {
   "cell_type": "markdown",
   "metadata": {},
   "source": [
    "### Calcolo di $g$ trascurando attrito"
   ]
  },
  {
   "cell_type": "code",
   "execution_count": 82,
   "metadata": {
    "collapsed": false
   },
   "outputs": [
    {
     "name": "stdout",
     "output_type": "stream",
     "text": [
      "\n",
      "g=974.40, δg=84.55, A=10.9, δA=9.2\n",
      "\n"
     ]
    },
    {
     "data": {
      "text/plain": [
       "<Container object of 3 artists>"
      ]
     },
     "execution_count": 82,
     "metadata": {},
     "output_type": "execute_result"
    },
    {
     "data": {
      "image/png": "[encoded data removed]",
      "text/plain": [
       "<matplotlib.figure.Figure at 0x7fd22ddf0be0>"
      ]
     },
     "metadata": {},
     "output_type": "display_data"
    }
   ],
   "source": [
    "### Verifica relazione lineare tra sinα e accelerazione\n",
    "sinα = array([0.141, 0.086, 0.089])#, 0.158])\n",
    "δsinα = array([0.002, 0.002, 0.002])#, 0.002])\n",
    "a = array([148.4, 97.2, 94.9])#,155.0]) \n",
    "δa = array([5.1,1.1, 1.1])#,1.0])\n",
    "\n",
    "# Verifica legge lineare\n",
    "A, δA, B, δB = fit_lineare(sinα, a)\n",
    "def fit_fun(x): return A + B*x \n",
    "\n",
    "g=B; δg=δB; \n",
    "print(\"\\ng=%.2f, δg=%.2f, A=%.1f, δA=%.1f\\n\" % (g, δg, A, δA))   #show results\n",
    "\n",
    "dt=linspace(0.08,0.16)     # range dell'asse x\n",
    "plot(dt,fit_fun(dt))  #plotta il fit\n",
    "errorbar(sinα, a, xerr=δsinα, yerr=δa, ls='none')"
   ]
  },
  {
   "cell_type": "markdown",
   "metadata": {},
   "source": [
    "### Calcolo di $g$ e $\\mu_k$\n",
    "Utilizzando i valori di $\\alpha$ e di $a$ ottenuti per due inclinazioni diverse, risolvete il sistema di due equazioni nelle due incognite $g$ e $\\mu_k$.\n",
    "Sapreste stimare l'errore?\n",
    "L'attrito gioca un ruolo importante?"
   ]
  },
  {
   "cell_type": "code",
   "execution_count": 71,
   "metadata": {
    "collapsed": false
   },
   "outputs": [
    {
     "name": "stdout",
     "output_type": "stream",
     "text": [
      "\n",
      " μ=-0.02, g=932.86\n",
      "\n"
     ]
    }
   ],
   "source": [
    "sinα = array([0.141, 0.086])#, 0.089, 0.158])\n",
    "δsinα = array([0.002, 0.002])#, 0.002])#, 0.002])\n",
    "a = array([148.4, 97.2])#, 94.9])#,155.0]) \n",
    "δa = array([5.1,1.1])#, 1.1])#,1.0])\n",
    "cosα =sqrt(1-sinα**2)\n",
    "g = (a[1]*cosα[0]-a[0]*cosα[1]) / (cosα[0]*sinα[1]-sinα[0]*cosα[1])\n",
    "μ = (a[1]*sinα[0]-a[0]*sinα[1]) / (a[1]*cosα[0]-a[0]*cosα[1]) \n",
    "\n",
    "print(\"\\n μ=%.2f, g=%.2f\\n\" % (μ, g))   #show results"
   ]
  },
  {
   "cell_type": "code",
   "execution_count": 72,
   "metadata": {
    "collapsed": false
   },
   "outputs": [
    {
     "name": "stdout",
     "output_type": "stream",
     "text": [
      "\n",
      " μ=-0.01, g=975.70\n",
      "\n"
     ]
    }
   ],
   "source": [
    "sinα = array([0.141, 0.086, 0.089])#, 0.158])\n",
    "δsinα = array([0.002, 0.002, 0.002])#, 0.002])\n",
    "a = array([148.4, 97.2, 94.9])#,155.0]) \n",
    "δa = array([5.1,1.1])#, 1.1])#,1.0])\n",
    "cosα =sqrt(1-sinα**2)\n",
    "\n",
    "A, δA, g, δg = fit_lineare(sinα/cosα, a/cosα)\n",
    "μ = - A / g\n",
    "print(\"\\n μ=%.2f, g=%.2f\\n\" % (μ, g))   #show results"
   ]
  },
  {
   "cell_type": "markdown",
   "metadata": {},
   "source": [
    "### Annotazioni \n",
    "\n",
    "bla bla bla\n",
    "bla bla bla"
   ]
  },
  {
   "cell_type": "code",
   "execution_count": null,
   "metadata": {
    "collapsed": true
   },
   "outputs": [],
   "source": [
    "H1=21.4\n",
    "\n",
    "s1=30  s2=50\n",
    "\n",
    "0.2370\n",
    "0.2369\n",
    "0.2374\n",
    "0.2377\n",
    "0.2375\n",
    "\n",
    "s1= 30  s2=60  # +/-1mm\n",
    " \n",
    "0.3289\n",
    "0.3289\n",
    "0.3288\n",
    "0.3288\n",
    "0.3288\n",
    "\n",
    "s1= 30  s2=70  # +/-1mm\n",
    "\n",
    "0.4083\n",
    "0.4096\n",
    "0.4094\n",
    "0.4094\n",
    "0.4094\n",
    "\n",
    "s1= 30  s2=80  # +/-1mm\n",
    "\n",
    "0.4855\n",
    "0.4860\n",
    "0.4871\n",
    "0.4861\n",
    "0.4865\n",
    "\n",
    "H1=14.2\n",
    "\n",
    "s1= 30  s2=80  # +/-1mm\n",
    "\n",
    "0.6137\n",
    "0.6140\n",
    "0.6127\n",
    "0.6150\n",
    "0.6144\n",
    "\n",
    "s1= 30  s2=70  # +/-1mm\n",
    "\n",
    "0.5201\n",
    "0.5204\n",
    "0.5209\n",
    "0.5205\n",
    "0.5222\n",
    "\n",
    "s1= 30  s2=60  # +/-1mm\n",
    "\n",
    "0.4165\n",
    "0.4163\n",
    "0.4186\n",
    "0.4168\n",
    "0.4169\n",
    "\n",
    "s1= 30  s2=50  # +/-1mm\n",
    "\n",
    "0.3022\n",
    "0.3027\n",
    "0.3017\n",
    "0.3019\n",
    "0.3017"
   ]
  }
 ],
 "metadata": {
  "kernelspec": {
   "display_name": "Python 3",
   "language": "python",
   "name": "python3"
  },
  "language_info": {
   "codemirror_mode": {
    "name": "ipython",
    "version": 3
   },
   "file_extension": ".py",
   "mimetype": "text/x-python",
   "name": "python",
   "nbconvert_exporter": "python",
   "pygments_lexer": "ipython3",
   "version": "3.6.0"
  }
 },
 "nbformat": 4,
 "nbformat_minor": 2
}
