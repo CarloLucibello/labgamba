{
 "cells": [
  {
   "cell_type": "code",
   "execution_count": 6,
   "metadata": {
    "collapsed": false
   },
   "outputs": [
    {
     "data": {
      "image/png": "[encoded data removed]",
      "text/plain": [
       "<IPython.core.display.Image object>"
      ]
     },
     "execution_count": 6,
     "metadata": {},
     "output_type": "execute_result"
    }
   ],
   "source": [
    "from IPython.display import Image \n",
    "Image(filename='/home/andrea/didattica/fisica-I/2016-2017/laboratorio/fig1.png')"
   ]
  },
  {
   "cell_type": "markdown",
   "metadata": {},
   "source": [
    "$s(t)=s_\\mathrm{in}+v_\\mathrm{in} (t-t_\\mathrm{in})+\\frac{1}{2}a\\,(t-t_\\mathrm{in})^2$"
   ]
  },
  {
   "cell_type": "markdown",
   "metadata": {},
   "source": [
    "$\\Delta s=s_2-s_1=v_1\\,\\Delta t+\\frac{1}{2}a\\,\\Delta t^2$"
   ]
  },
  {
   "cell_type": "markdown",
   "metadata": {},
   "source": [
    "$\\Delta t=t_2-t_1$"
   ]
  },
  {
   "cell_type": "markdown",
   "metadata": {
    "collapsed": true
   },
   "source": [
    "sia $s_1$ la distanza del primo fototraguardo dall'estremo sinistro del piano inclinato"
   ]
  },
  {
   "cell_type": "code",
   "execution_count": 60,
   "metadata": {
    "collapsed": false
   },
   "outputs": [
    {
     "name": "stdout",
     "output_type": "stream",
     "text": [
      "Populating the interactive namespace from numpy and matplotlib\n"
     ]
    }
   ],
   "source": [
    "%pylab inline\n",
    "from pandas import DataFrame\n",
    "from scipy.optimize import leastsq"
   ]
  },
  {
   "cell_type": "code",
   "execution_count": 61,
   "metadata": {
    "collapsed": true
   },
   "outputs": [],
   "source": [
    "totale=[]                                  # i risultati finali saranno raccolti in questa lista\n",
    "\n",
    "def fitfunc(p,x):                          # funzione utilizzata per il fit parabolico\n",
    "    return 0.5*p[0]*x**2+p[1]\n",
    "    \n",
    "def errfunc(p,x,y):                        # errore = differenza tra il fit fitfunc(p,x) e i dati y\n",
    "    return fitfunc(p,x)-y"
   ]
  },
  {
   "cell_type": "code",
   "execution_count": 50,
   "metadata": {
    "collapsed": false
   },
   "outputs": [
    {
     "name": "stdout",
     "output_type": "stream",
     "text": [
      "Nell'esperimento che segue H  =  5.00 +/- 0.10 cm\n"
     ]
    }
   ],
   "source": [
    "parziale=[]                                # i risultati parziali saranno raccolti in questa lista\n",
    "H=5; dH=0.1                                # altezza della sommità del piano e relativa incertezza [cm]\n",
    "print(\"Nell'esperimento che segue H  = %5.2f +/- %4.2f cm\"%(H ,dH ))"
   ]
  },
  {
   "cell_type": "code",
   "execution_count": 51,
   "metadata": {
    "collapsed": false
   },
   "outputs": [
    {
     "name": "stdout",
     "output_type": "stream",
     "text": [
      "H  =   5.00 +/- 0.10 cm\n",
      "Δs =   5.00 +/- 1.00 cm\n",
      "Δt =   1.00 +/- 0.16 s \n"
     ]
    },
    {
     "data": {
      "text/html": [
       "<div>\n",
       "<table border=\"1\" class=\"dataframe\">\n",
       "  <thead>\n",
       "    <tr style=\"text-align: right;\">\n",
       "      <th>misura</th>\n",
       "      <th>Δt [s]</th>\n",
       "    </tr>\n",
       "  </thead>\n",
       "  <tbody>\n",
       "    <tr>\n",
       "      <th>1</th>\n",
       "      <td>1.1</td>\n",
       "    </tr>\n",
       "    <tr>\n",
       "      <th>2</th>\n",
       "      <td>0.9</td>\n",
       "    </tr>\n",
       "    <tr>\n",
       "      <th>3</th>\n",
       "      <td>1.2</td>\n",
       "    </tr>\n",
       "    <tr>\n",
       "      <th>4</th>\n",
       "      <td>0.8</td>\n",
       "    </tr>\n",
       "  </tbody>\n",
       "</table>\n",
       "</div>"
      ],
      "text/plain": [
       "misura  Δt [s]\n",
       "1          1.1\n",
       "2          0.9\n",
       "3          1.2\n",
       "4          0.8"
      ]
     },
     "execution_count": 51,
     "metadata": {},
     "output_type": "execute_result"
    }
   ],
   "source": [
    "dato={}                                    # raccolgo in questo dizionario i risultati relativi alla misura\n",
    "\n",
    "dato['Δs']  = 5.                           # distanza tra i due fototraguardi [cm]\n",
    "dato['δΔs'] = 1.                           #    e relativa incertezza [cm]\n",
    "\n",
    "Dt=array([1.1,0.9,1.2,0.8])                # intervalli di tempo Δt misurati [s]\n",
    "\n",
    "dato['Δt']  = mean(Dt)                     # stima del valor medio di Δt [s]\n",
    "dato['δΔt'] = std(Dt)                      #    e della relativa incertezza [s]\n",
    "\n",
    "parziale.append(dato)                      # aggiungo i risultati alla lista parziale\n",
    "\n",
    "print('H  = %6.2f +/- %4.2f cm'%(H         ,dH         ))\n",
    "print('Δs = %6.2f +/- %4.2f cm'%(dato['Δs'],dato['δΔs']))\n",
    "print('Δt = %6.2f +/- %4.2f s '%(dato['Δt'],dato['δΔt']))\n",
    "\n",
    "df=DataFrame({'Δt [s]':Dt})                # creo una tabella con i valori di Δt misurati\n",
    "df.index=df.index+1                        # numero le misure a partire dall'indice 1\n",
    "df.columns.name='misura'                   # assegno un nome alla prima colonna \n",
    "df                                         # stampo la tabella"
   ]
  },
  {
   "cell_type": "code",
   "execution_count": 52,
   "metadata": {
    "collapsed": false
   },
   "outputs": [
    {
     "name": "stdout",
     "output_type": "stream",
     "text": [
      "H  =   5.00 +/- 0.10 cm\n",
      "Δs =  10.00 +/- 1.50 cm\n",
      "Δt =   1.45 +/- 0.11 s \n"
     ]
    },
    {
     "data": {
      "text/html": [
       "<div>\n",
       "<table border=\"1\" class=\"dataframe\">\n",
       "  <thead>\n",
       "    <tr style=\"text-align: right;\">\n",
       "      <th>misura</th>\n",
       "      <th>Δt [s]</th>\n",
       "    </tr>\n",
       "  </thead>\n",
       "  <tbody>\n",
       "    <tr>\n",
       "      <th>1</th>\n",
       "      <td>1.5</td>\n",
       "    </tr>\n",
       "    <tr>\n",
       "      <th>2</th>\n",
       "      <td>1.4</td>\n",
       "    </tr>\n",
       "    <tr>\n",
       "      <th>3</th>\n",
       "      <td>1.3</td>\n",
       "    </tr>\n",
       "    <tr>\n",
       "      <th>4</th>\n",
       "      <td>1.6</td>\n",
       "    </tr>\n",
       "  </tbody>\n",
       "</table>\n",
       "</div>"
      ],
      "text/plain": [
       "misura  Δt [s]\n",
       "1          1.5\n",
       "2          1.4\n",
       "3          1.3\n",
       "4          1.6"
      ]
     },
     "execution_count": 52,
     "metadata": {},
     "output_type": "execute_result"
    }
   ],
   "source": [
    "dato={}                                    # raccolgo in questo dizionario i risultati relativi alla misura\n",
    "\n",
    "dato['Δs']  = 10.                          # distanza tra i due fototraguardi [cm]\n",
    "dato['δΔs'] = 1.5                          #    e relativa incertezza [cm]\n",
    "\n",
    "Dt=array([1.5,1.4,1.3,1.6])                # intervalli di tempo Δt misurati [s]\n",
    "\n",
    "dato['Δt']  = mean(Dt)                     # stima del valor medio di Δt [s]\n",
    "dato['δΔt'] = std(Dt)                      #    e della relativa incertezza [s]\n",
    "\n",
    "parziale.append(dato)                      # aggiungo i risultati alla lista parziale\n",
    "\n",
    "print('H  = %6.2f +/- %4.2f cm'%(H         ,dH         ))\n",
    "print('Δs = %6.2f +/- %4.2f cm'%(dato['Δs'],dato['δΔs']))\n",
    "print('Δt = %6.2f +/- %4.2f s '%(dato['Δt'],dato['δΔt']))\n",
    "\n",
    "df=DataFrame({'Δt [s]':Dt})                # creo una tabella con i valori di Δt misurati\n",
    "df.index=df.index+1                        # numero le misure a partire dall'indice 1\n",
    "df.columns.name='misura'                   # assegno un nome alla prima colonna \n",
    "df                                         # stampo la tabella"
   ]
  },
  {
   "cell_type": "code",
   "execution_count": 53,
   "metadata": {
    "collapsed": false
   },
   "outputs": [
    {
     "name": "stdout",
     "output_type": "stream",
     "text": [
      "H  =   5.00 +/- 0.10 cm\n",
      "Δs =  15.00 +/- 2.00 cm\n",
      "Δt =   1.71 +/- 0.05 s \n"
     ]
    },
    {
     "data": {
      "text/html": [
       "<div>\n",
       "<table border=\"1\" class=\"dataframe\">\n",
       "  <thead>\n",
       "    <tr style=\"text-align: right;\">\n",
       "      <th>misura</th>\n",
       "      <th>Δt [s]</th>\n",
       "    </tr>\n",
       "  </thead>\n",
       "  <tbody>\n",
       "    <tr>\n",
       "      <th>1</th>\n",
       "      <td>1.70</td>\n",
       "    </tr>\n",
       "    <tr>\n",
       "      <th>2</th>\n",
       "      <td>1.80</td>\n",
       "    </tr>\n",
       "    <tr>\n",
       "      <th>3</th>\n",
       "      <td>1.70</td>\n",
       "    </tr>\n",
       "    <tr>\n",
       "      <th>4</th>\n",
       "      <td>1.65</td>\n",
       "    </tr>\n",
       "  </tbody>\n",
       "</table>\n",
       "</div>"
      ],
      "text/plain": [
       "misura  Δt [s]\n",
       "1         1.70\n",
       "2         1.80\n",
       "3         1.70\n",
       "4         1.65"
      ]
     },
     "execution_count": 53,
     "metadata": {},
     "output_type": "execute_result"
    }
   ],
   "source": [
    "dato={}                                    # raccolgo in questo dizionario i risultati relativi alla misura\n",
    "\n",
    "dato['Δs']  = 15.                          # distanza tra i due fototraguardi [cm]\n",
    "dato['δΔs'] = 2.                           #    e relativa incertezza [cm]\n",
    "\n",
    "Dt=array([1.7,1.8,1.7,1.65])                # intervalli di tempo Δt misurati [s]\n",
    "\n",
    "dato['Δt']  = mean(Dt)                     # stima del valor medio di Δt [s]\n",
    "dato['δΔt'] = std(Dt)                      #    e della relativa incertezza [s]\n",
    "\n",
    "parziale.append(dato)                      # aggiungo i risultati alla lista parziale\n",
    "\n",
    "print('H  = %6.2f +/- %4.2f cm'%(H         ,dH         ))\n",
    "print('Δs = %6.2f +/- %4.2f cm'%(dato['Δs'],dato['δΔs']))\n",
    "print('Δt = %6.2f +/- %4.2f s '%(dato['Δt'],dato['δΔt']))\n",
    "\n",
    "df=DataFrame({'Δt [s]':Dt})                # creo una tabella con i valori di Δt misurati\n",
    "df.index=df.index+1                        # numero le misure a partire dall'indice 1\n",
    "df.columns.name='misura'                   # assegno un nome alla prima colonna \n",
    "df                                         # stampo la tabella"
   ]
  },
  {
   "cell_type": "code",
   "execution_count": 54,
   "metadata": {
    "collapsed": false
   },
   "outputs": [
    {
     "data": {
      "text/html": [
       "<div>\n",
       "<table border=\"1\" class=\"dataframe\">\n",
       "  <thead>\n",
       "    <tr style=\"text-align: right;\">\n",
       "      <th>serie</th>\n",
       "      <th>Δs</th>\n",
       "      <th>Δt</th>\n",
       "      <th>δΔs</th>\n",
       "      <th>δΔt</th>\n",
       "    </tr>\n",
       "  </thead>\n",
       "  <tbody>\n",
       "    <tr>\n",
       "      <th>1</th>\n",
       "      <td>5.0</td>\n",
       "      <td>1.000</td>\n",
       "      <td>1.0</td>\n",
       "      <td>0.158</td>\n",
       "    </tr>\n",
       "    <tr>\n",
       "      <th>2</th>\n",
       "      <td>10.0</td>\n",
       "      <td>1.450</td>\n",
       "      <td>1.5</td>\n",
       "      <td>0.112</td>\n",
       "    </tr>\n",
       "    <tr>\n",
       "      <th>3</th>\n",
       "      <td>15.0</td>\n",
       "      <td>1.712</td>\n",
       "      <td>2.0</td>\n",
       "      <td>0.054</td>\n",
       "    </tr>\n",
       "  </tbody>\n",
       "</table>\n",
       "</div>"
      ],
      "text/plain": [
       "serie    Δs     Δt  δΔs    δΔt\n",
       "1       5.0  1.000  1.0  0.158\n",
       "2      10.0  1.450  1.5  0.112\n",
       "3      15.0  1.712  2.0  0.054"
      ]
     },
     "execution_count": 54,
     "metadata": {},
     "output_type": "execute_result"
    }
   ],
   "source": [
    "df=DataFrame(parziale)                     # creo una tabella riassuntiva con i risultati dell'esperimento\n",
    "df.index=df.index+1                        # numero le serie di misure a partire dall'indice 1df.columns.name='misura'                   # assegno un nome alla prima colonna \n",
    "df.columns.name='serie'                    # assegno un nome alla prima colonna \n",
    "df.round(3)                                # stampo la tabella con un massimo di 3 decimali di precisione"
   ]
  },
  {
   "cell_type": "code",
   "execution_count": 63,
   "metadata": {
    "collapsed": false,
    "scrolled": true
   },
   "outputs": [
    {
     "data": {
      "text/plain": [
       "[<matplotlib.lines.Line2D at 0x7f69a21b4d10>]"
      ]
     },
     "execution_count": 63,
     "metadata": {},
     "output_type": "execute_result"
    },
    {
     "data": {
      "image/png": "[encoded data removed]",
      "text/plain": [
       "<matplotlib.figure.Figure at 0x7f699c5a1f10>"
      ]
     },
     "metadata": {},
     "output_type": "display_data"
    }
   ],
   "source": [
    "p0=[0.,0.]\n",
    "p,success = leastsq(errfunc, p0, args=(df['Δt'], df['Δs']))\n",
    "\n",
    "df.plot(x='Δt',y='Δs',xerr='δΔt',yerr='δΔs',kind='scatter',grid=True)\n",
    "dt=arange(0.6,2.0)\n",
    "plot(dt,fitfunc(p,dt))"
   ]
  },
  {
   "cell_type": "code",
   "execution_count": null,
   "metadata": {
    "collapsed": true
   },
   "outputs": [],
   "source": []
  }
 ],
 "metadata": {
  "kernelspec": {
   "display_name": "Python 3",
   "language": "python",
   "name": "python3"
  },
  "language_info": {
   "codemirror_mode": {
    "name": "ipython",
    "version": 3
   },
   "file_extension": ".py",
   "mimetype": "text/x-python",
   "name": "python",
   "nbconvert_exporter": "python",
   "pygments_lexer": "ipython3",
   "version": "3.6.0"
  }
 },
 "nbformat": 4,
 "nbformat_minor": 2
}
