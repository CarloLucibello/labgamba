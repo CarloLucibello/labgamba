{
 "cells": [
  {
   "cell_type": "markdown",
   "metadata": {},
   "source": [
    "## Determinazione dell'accelerazione di gravità mediante misure di moto uniformemente accelerato lungo un piano inclinato\n",
    "\n",
    "### Scopo dell'esperienza\n",
    "Determinare sperimentalmente l’accelerazione di gravità $g$ mediante misure di tempi e spazi relativi al moto uniformemente accelerato di un corpo lungo un piano inclinato. \n",
    "\n",
    "### Materiali e strumenti utilizzati \n",
    "- rotaia rettilinea (piano inclinato) di lunghezza L;\n",
    "- treppiede con asta metallica verticale da infilare nell’aggancio della rotaia per inclinarla;\n",
    "- carrello (macchinina) con respingente magnetico (e propulsore a molla);\n",
    "- mascherina di plexiglas trasparente con tratti scuri variamente spaziati da fissare longitudinalmente sul carrello\n",
    "- metro a nastro e scala graduata lungo il piano inclinato;\n",
    "- Smart Timer;\n",
    "- due traguardi a fotocellula da collegare allo Smart Timer;\n",
    "- questo notebook Python, dove annotare e analizzare i risultati dell'esperimento.\n",
    "\n",
    "<img src=\"apparato.png\">\n",
    "\n",
    "### Fondamenti Teorici\n",
    "\n",
    "Il moto senza attrito di un oggetto lungo un piano inclinato è uniformemente accelerato, secondo la legge oraria:\n",
    "\n",
    "$$s(t)=s_\\mathrm{in}+v_\\mathrm{in} (t-t_\\mathrm{in})+\\frac{1}{2}a\\,(t-t_\\mathrm{in})^2$$\n",
    "\n",
    "\n",
    "L’accelerazione a è legata all’accelerazione di gravità dalla semplice relazione:  \n",
    "$$a=g\\sin(\\alpha)$$\n",
    " \n",
    "dove $\\alpha$ è l’angolo di cui è inclinato il piano. Nel nostro caso, e in riferimento alla figura, è $H=L\\sin(\\alpha)$, da cui: $a=g H/L$.\n",
    "\n",
    "Nel caso specifico $t_0$ sarà relativo al primo sensore a fotocellula (indice 1) e t sarà relativo al secondo sensore a fotocellula (indice 2), da cui:\n",
    "\n",
    "$$\\Delta s=s_2-s_1=v_1\\,\\Delta t+\\frac{1}{2}a\\,\\Delta t^2$$\n",
    " \t\t\t \n",
    " avendo indicato con $s_2$ e $s_1$ le distanze dei 2 sensori a fotocellula dalla sommità della rotaia ($s=0$).\n",
    " \n",
    " ### Descrizione dell'Esperienza\n",
    " \n",
    " a) Determinare la posizione orizzontale della rotaia posizionando la rotaia stessa sul tavolo e posizionando il carrello al suo centro: se il carrello si muove, aggiustare la vite posta alla fine della rotaia finché il carrello non si muove più. Misurare l’altezza h0 tra il tavolo e la rotaia (lato  superiore). \n",
    " \n",
    " <img src=\"fig_a1.png\">\n",
    " <img src=\"fig_a2.png\">\n",
    "\n",
    "\n",
    "\n",
    "b) Fissare il primo sensore a fotocellula a una ventina di cm dalla sommità (s=0) del piano inclinato (collegare il relativo cavo al canale 1 dello Smart Timer). Indicando con l’indice 1 tale sensore, la distanza del primo sensore dalla sommità sarà s1. Valutare l’incertezza δs1 relativa alla misura di s1.\n",
    "\n",
    "<img src=\"fig_b.png\">\n",
    "\n",
    "\n",
    "\n",
    "c) Accendere il sistema di acquisizione Smart Timer con l’interruttore posto sulla sinistra [I/O], premere il tasto 1 “Select Measurement” fino a scegliere la misura “TIME”, premere il tasto 2 “Select Mode” fino a scegliere la modalità “Two Gates” (si misurerà l’intervallo di tempo che intercorre tra il passaggio dal 1° al 2° fototraguardo).\n",
    "\n",
    "\n",
    "d) Regolare l'inclinazione del piano, verificando con la bolla che non vi sia una pendenza laterale. Misurare l’altezza h1 della rotaia all’estremità alta (distanza tavolo – lato superiore della rotaia): l’altezza $H$ da considerare sarà $H=h_1-h_0$ (scegliere un angolo di inclinazione non troppo grande). Valutare l’incertezza $δ(H)$ relativa ad $H$.\n",
    "\n",
    "<img src=\"fig_d.png\">\n",
    "\n",
    "\n",
    "\n",
    "e) Fissare il secondo sensore a una distanza $s$ di qualche centimetro (ad es. 10 cm) dal primo. Indicando con l’indice 2 tale sensore, la distanza del secondo sensore dalla sommità sarà $s_2$ e quindi $s=s_2-s_1$. Valutare l’incertezza $\\delta(s_2)$ relativa alla misura di $s_2$; valutare l’incertezza $\\delta(s)$ relativa a $s$.\n",
    "\n",
    "<img src=\"fig_e.png\">\n",
    "\n",
    "f) Ripetere le seguenti operazioni per almeno 10 volte, senza variare la distanza tra i sensori:\n",
    "1. Premere il tasto 3 “Start” dello smart timer (si sente un suono e compare un asterisco sulla seconda riga dello strumento): a questo punto lo smart timer è attivo e pronto a ricevere gli impulsi dai fototraguardi e a mostrare il tempo t impiegato a percorrere lo spazio s tra i due sensori.\n",
    "2. Disporre il carrello alla sommità della rotaia e lasciarlo libero di scendere, avendo cura di non imprimere alcuna forza alla partenza (controllare che al passaggio sui due fototraguardi si illumini una spia rossa).\n",
    "3. Segnare il tempo t visualizzato (rimane visualizzato finché non si preme di nuovo “Start”) e l'incertezza associata. \n",
    "\n",
    "g) Ripetere le operazioni (e)-(f) almeno 5 volte, TENENDO FISSA LA POSIZIONE DEL 1° SENSORE e cambiando quella del 2° in modo tale che la distanza s aumenti ogni volta (ad es. di 10 cm). \n",
    "\n",
    "h) Ripetere le misure del moto del carrello in discesa, secondo la procedura seguita in precedenza [operazioni (d)-(g)], per almeno 4 angoli di inclinazione αi diversi (ossia per almeno 4 diversi valori di $H_i$).\n",
    "\n",
    "### Grandezze Utilizzate \n",
    "- $s_1$, $s_2$: distanza del primo e secondo sensore dalla sommità del piano;  $δ s_1$, $δ s_2$: incertezze nella misura di $s_1$ e $s_2$ \n",
    "- $\\Delta s= s_2 - s_1$: distanza tra i due sensori; $δ(\\Delta s)$: incertezza nella valutazione di $s$ \n",
    "- $\\Delta t_i$: $i$-esima misura del tempo di percorrenza tra $s_1$ e $s_2$\n",
    "- $\\alpha_i$ : angolo di inclinazione del piano rispetto all’orizzontale \n",
    "- $H$: altezza della rotaia all’estremità alta; $δ(H)$: incertezza nella valutazione di $H$\n",
    "- $L$: lunghezza rotaia; $δ(L)$: incertezza nella misura di $L$\n",
    "- $δ(\\overline{\\Delta t})$ : stima dell'incertezza su $\\overline{\\Delta t}$ come deviazione standard della media. \n",
    "\n",
    "Il **fototraguardo** è basato su una coppia emettitore-rivelatore di raggi infrarossi a 880 nm, con un tempo caratteristica di salita di 500 ns e uno di discesa di 50 ns: un oggetto che passa attraverso il fototraguardo ostacola il fascio infrarosso provocando l'apertura del circuito. Per un oggetto che passa a 1 cm dal rivelatore infrarosso, con una velocità minore di 10 m/s, la differenza tra la lunghezza reale e quella misurata è minore di un millimetro. Documentazione [qui](https://www.sbai.uniroma1.it/labfis/strumentazione_sensori_pasco_fototraguardo.html)\n",
    "\n",
    "### Note\n",
    "- riportare una sola cifra significativa per le incertezze; \n",
    "- quando si scrivono misure di grandezze non riportare più cifre significative di quelle coperte dall'incertezza e ricordarsi delle unità di misura; \n",
    "- riportare le formule usate per calcolare i risultati e per determinare le incertezze; \n",
    "- sforzarsi di fare osservazioni e commenti propri e, se si ritiene opportuno, sperimentare, motivando, anche cose diverse da quelle suggerite. \n",
    "\n",
    "\n"
   ]
  },
  {
   "cell_type": "markdown",
   "metadata": {},
   "source": [
    "## @@@@@ Inizio Esperienza @@@@@\n",
    "### Utilizzo del notebook\n",
    "TODO\n",
    "- esegui cella: shift-invio, ctrl-invio\n",
    "- cella blu / cella verde\n",
    "- copia e incolla\n",
    "- raccolta dati\n",
    "- aggiungere note, commenti, celle"
   ]
  },
  {
   "cell_type": "code",
   "execution_count": 12,
   "metadata": {
    "collapsed": false
   },
   "outputs": [
    {
     "name": "stdout",
     "output_type": "stream",
     "text": [
      "Populating the interactive namespace from numpy and matplotlib\n"
     ]
    }
   ],
   "source": [
    "%pylab inline\n",
    "from pandas import DataFrame\n",
    "from scipy.optimize import leastsq"
   ]
  },
  {
   "cell_type": "code",
   "execution_count": 24,
   "metadata": {
    "collapsed": false
   },
   "outputs": [],
   "source": [
    "def fitfunc(p,x):                          # funzione utilizzata per il fit parabolico\n",
    "    return 0.5*p[0]*x**2+p[1]\n",
    "    \n",
    "def errfunc(p,x,y):                        # errore = differenza tra il fit fitfunc(p,x) e i dati y\n",
    "    return fitfunc(p,x)-y"
   ]
  },
  {
   "cell_type": "markdown",
   "metadata": {},
   "source": [
    "### Raccolta Dati"
   ]
  },
  {
   "cell_type": "code",
   "execution_count": 35,
   "metadata": {
    "collapsed": false,
    "scrolled": false
   },
   "outputs": [
    {
     "name": "stdout",
     "output_type": "stream",
     "text": [
      "Nell'esperimento che segue H  =  5.00 +/- 0.10 cm\n"
     ]
    }
   ],
   "source": [
    "parziale=[]                                # i risultati parziali saranno raccolti in questa lista\n",
    "H=5; dH=0.1                                # altezza della sommità del piano e relativa incertezza [cm]\n",
    "print(\"Nell'esperimento che segue H  = %5.2f +/- %4.2f cm\"%(H ,dH ))"
   ]
  },
  {
   "cell_type": "markdown",
   "metadata": {},
   "source": [
    "#### Dato 1"
   ]
  },
  {
   "cell_type": "code",
   "execution_count": 42,
   "metadata": {
    "collapsed": false
   },
   "outputs": [
    {
     "name": "stdout",
     "output_type": "stream",
     "text": [
      "H  =   5.00 +/- 0.10 cm\n",
      "Δs =  10.00 +/- 1.50 cm\n",
      "Δt =   1.45 +/- 0.11 s \n"
     ]
    },
    {
     "data": {
      "text/html": [
       "<div>\n",
       "<table border=\"1\" class=\"dataframe\">\n",
       "  <thead>\n",
       "    <tr style=\"text-align: right;\">\n",
       "      <th>misura</th>\n",
       "      <th>Δt [s]</th>\n",
       "    </tr>\n",
       "  </thead>\n",
       "  <tbody>\n",
       "    <tr>\n",
       "      <th>1</th>\n",
       "      <td>1.5</td>\n",
       "    </tr>\n",
       "    <tr>\n",
       "      <th>2</th>\n",
       "      <td>1.4</td>\n",
       "    </tr>\n",
       "    <tr>\n",
       "      <th>3</th>\n",
       "      <td>1.3</td>\n",
       "    </tr>\n",
       "    <tr>\n",
       "      <th>4</th>\n",
       "      <td>1.6</td>\n",
       "    </tr>\n",
       "  </tbody>\n",
       "</table>\n",
       "</div>"
      ],
      "text/plain": [
       "misura  Δt [s]\n",
       "1          1.5\n",
       "2          1.4\n",
       "3          1.3\n",
       "4          1.6"
      ]
     },
     "execution_count": 42,
     "metadata": {},
     "output_type": "execute_result"
    }
   ],
   "source": [
    "dato={}                                    # raccolgo in questo dizionario i risultati relativi alla misura\n",
    "\n",
    "dato['Δs']  = 10.                          # distanza tra i due fototraguardi [cm]\n",
    "dato['δ(Δs)'] = 1.5                          #    e relativa incertezza [cm]\n",
    "\n",
    "Dt=array([1.5,1.4,1.3,1.6])                # intervalli di tempo Δt misurati [s]\n",
    "\n",
    "dato['Δt']  = mean(Dt)                     # stima del valor medio di Δt [s]\n",
    "dato['δ(Δt)'] = std(Dt)                      #    e della relativa incertezza [s]\n",
    "\n",
    "parziale.append(dato)                      # aggiungo i risultati alla lista parziale\n",
    "\n",
    "print('H  = %6.2f +/- %4.2f cm' % (H         , dH         ))\n",
    "print('Δs = %6.2f +/- %4.2f cm' % (dato['Δs'], dato['δ(Δs)']))\n",
    "print('Δt = %6.2f +/- %4.2f s ' % (dato['Δt'], dato['δ(Δt)']))\n",
    "\n",
    "df=DataFrame({'Δt [s]':Dt})                # creo una tabella con i valori di Δt misurati\n",
    "df.index=df.index+1                        # numero le misure a partire dall'indice 1\n",
    "df.columns.name='misura'                   # assegno un nome alla prima colonna \n",
    "df                               "
   ]
  },
  {
   "cell_type": "markdown",
   "metadata": {},
   "source": [
    "#### Dato 2"
   ]
  },
  {
   "cell_type": "code",
   "execution_count": 37,
   "metadata": {
    "collapsed": false
   },
   "outputs": [
    {
     "name": "stdout",
     "output_type": "stream",
     "text": [
      "H  =   5.00 +/- 0.10 cm\n",
      "Δs =  10.00 +/- 1.50 cm\n",
      "Δt =   1.45 +/- 0.11 s \n"
     ]
    },
    {
     "data": {
      "text/html": [
       "<div>\n",
       "<table border=\"1\" class=\"dataframe\">\n",
       "  <thead>\n",
       "    <tr style=\"text-align: right;\">\n",
       "      <th>misura</th>\n",
       "      <th>Δt [s]</th>\n",
       "    </tr>\n",
       "  </thead>\n",
       "  <tbody>\n",
       "    <tr>\n",
       "      <th>1</th>\n",
       "      <td>1.5</td>\n",
       "    </tr>\n",
       "    <tr>\n",
       "      <th>2</th>\n",
       "      <td>1.4</td>\n",
       "    </tr>\n",
       "    <tr>\n",
       "      <th>3</th>\n",
       "      <td>1.3</td>\n",
       "    </tr>\n",
       "    <tr>\n",
       "      <th>4</th>\n",
       "      <td>1.6</td>\n",
       "    </tr>\n",
       "  </tbody>\n",
       "</table>\n",
       "</div>"
      ],
      "text/plain": [
       "misura  Δt [s]\n",
       "1          1.5\n",
       "2          1.4\n",
       "3          1.3\n",
       "4          1.6"
      ]
     },
     "execution_count": 37,
     "metadata": {},
     "output_type": "execute_result"
    }
   ],
   "source": [
    "dato={}                                    # raccolgo in questo dizionario i risultati relativi alla misura\n",
    "\n",
    "dato['Δs']  = 10.                          # distanza tra i due fototraguardi [cm]\n",
    "dato['δ(Δs)'] = 1.5                          #    e relativa incertezza [cm]\n",
    "\n",
    "Dt=array([1.5,1.4,1.3,1.6])                # intervalli di tempo Δt misurati [s]\n",
    "\n",
    "dato['Δt']  = mean(Dt)                     # stima del valor medio di Δt [s]\n",
    "dato['δ(Δt)'] = std(Dt)                      #    e della relativa incertezza [s]\n",
    "\n",
    "parziale.append(dato)                      # aggiungo i risultati alla lista parziale\n",
    "\n",
    "print('H  = %6.2f +/- %4.2f cm' % (H         , dH         ))\n",
    "print('Δs = %6.2f +/- %4.2f cm' % (dato['Δs'], dato['δ(Δs)']))\n",
    "print('Δt = %6.2f +/- %4.2f s ' % (dato['Δt'], dato['δ(Δt)']))\n",
    "\n",
    "df=DataFrame({'Δt [s]':Dt})                # creo una tabella con i valori di Δt misurati\n",
    "df.index=df.index+1                        # numero le misure a partire dall'indice 1\n",
    "df.columns.name='misura'                   # assegno un nome alla prima colonna \n",
    "df                               "
   ]
  },
  {
   "cell_type": "markdown",
   "metadata": {},
   "source": [
    "### Analisi Dati"
   ]
  },
  {
   "cell_type": "code",
   "execution_count": 38,
   "metadata": {
    "collapsed": false
   },
   "outputs": [
    {
     "data": {
      "text/html": [
       "<div>\n",
       "<table border=\"1\" class=\"dataframe\">\n",
       "  <thead>\n",
       "    <tr style=\"text-align: right;\">\n",
       "      <th>serie</th>\n",
       "      <th>Δs</th>\n",
       "      <th>Δt</th>\n",
       "      <th>δ(Δs)</th>\n",
       "      <th>δ(Δt)</th>\n",
       "    </tr>\n",
       "  </thead>\n",
       "  <tbody>\n",
       "    <tr>\n",
       "      <th>1</th>\n",
       "      <td>10.0</td>\n",
       "      <td>1.45</td>\n",
       "      <td>1.5</td>\n",
       "      <td>0.112</td>\n",
       "    </tr>\n",
       "    <tr>\n",
       "      <th>2</th>\n",
       "      <td>10.0</td>\n",
       "      <td>1.45</td>\n",
       "      <td>1.5</td>\n",
       "      <td>0.112</td>\n",
       "    </tr>\n",
       "  </tbody>\n",
       "</table>\n",
       "</div>"
      ],
      "text/plain": [
       "serie    Δs    Δt  δ(Δs)  δ(Δt)\n",
       "1      10.0  1.45    1.5  0.112\n",
       "2      10.0  1.45    1.5  0.112"
      ]
     },
     "execution_count": 38,
     "metadata": {},
     "output_type": "execute_result"
    }
   ],
   "source": [
    "df=DataFrame(parziale)                     # creo una tabella riassuntiva con i risultati dell'esperimento\n",
    "df.index=df.index+1                        # numero le serie di misure a partire dall'indice 1df.columns.name='misura'                   # assegno un nome alla prima colonna \n",
    "df.columns.name='serie'                    # assegno un nome alla prima colonna \n",
    "df.round(3)   "
   ]
  },
  {
   "cell_type": "code",
   "execution_count": 41,
   "metadata": {
    "collapsed": false
   },
   "outputs": [
    {
     "data": {
      "text/plain": [
       "[<matplotlib.lines.Line2D at 0x7f6347d9d5f8>]"
      ]
     },
     "execution_count": 41,
     "metadata": {},
     "output_type": "execute_result"
    },
    {
     "data": {
      "image/png": "[encoded data removed]",
      "text/plain": [
       "<matplotlib.figure.Figure at 0x7f6347b49048>"
      ]
     },
     "metadata": {},
     "output_type": "display_data"
    }
   ],
   "source": [
    "p0=[0.,0.]\n",
    "p,success = leastsq(errfunc, p0, args=(df['Δt'], df['Δs']))\n",
    "\n",
    "df.plot(x='Δt',y='Δs',xerr='δ(Δt)',yerr='δ(Δs)',kind='scatter',grid=True)\n",
    "dt=arange(0.6,2.0)\n",
    "plot(dt,fitfunc(p,dt))"
   ]
  },
  {
   "cell_type": "code",
   "execution_count": null,
   "metadata": {
    "collapsed": true
   },
   "outputs": [],
   "source": []
  }
 ],
 "metadata": {
  "kernelspec": {
   "display_name": "Python 3",
   "language": "python",
   "name": "python3"
  },
  "language_info": {
   "codemirror_mode": {
    "name": "ipython",
    "version": 3
   },
   "file_extension": ".py",
   "mimetype": "text/x-python",
   "name": "python",
   "nbconvert_exporter": "python",
   "pygments_lexer": "ipython3",
   "version": "3.6.0"
  }
 },
 "nbformat": 4,
 "nbformat_minor": 2
}
