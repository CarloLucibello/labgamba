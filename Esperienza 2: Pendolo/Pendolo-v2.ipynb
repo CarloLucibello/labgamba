{
 "cells": [
  {
   "cell_type": "markdown",
   "metadata": {},
   "source": [
    "PENDOLO SEMPLICE\n",
    "================\n",
    "\n",
    "### SCOPI PRINCIPALI DELL’ESPERIENZA ###\n",
    "\n",
    "* Verificare che misure ripetute ottenute in presenza di incertezze casuali si distribuiscono secondo la distribuzione normale (gaussiana).\n",
    "* Determinare il valore dell’accelerazione di gravità.\n",
    "\n",
    "### PRINCIPI FISICI SU CUI SI BASA L’ESPERIENZA ###\n",
    "\n",
    "* Il *pendolo semplice* è costituito da un punto materiale di massa $m$ appeso a un supporto per mezzo di un filo inestensibile e di massa trascurabile. La posizione di equilibrio statico è quella in cui il filo è verticale e la massa è nella posizione più bassa. Se allontanato dalla posizione di equilibrio il punto inizia ad oscillare nel piano verticale lungo un arco di circonferenza.\n",
    "* Sulla massa $m$ agiscono la tensione del filo $\\mathbf{T}_\\mathrm{filo}$ e la forza peso $m \\mathbf{g}$. L’equazione del moto è quindi:\n",
    "$$ \\mathbf{T}_\\mathrm{filo} + m \\mathbf{g} = m \\mathbf{a} $$\n",
    "* La massa $m$ oscilla lungo un arco di circonferenza di raggio $L$. La proiezione dell'equazione del moto lungo la direzione tangente alla traiettoria è:\n",
    "$$ - m g \\sin \\theta = m a_\\theta= m L \\frac{\\mathrm{d}^2\\theta}{\\mathrm{d}t^2}$$\n",
    "* Se le oscillazioni sono piccole ($\\theta\\lesssim 0.122\\, \\mathrm{rad}\\simeq 7^\\circ$), si può approssimare $\\sin \\theta$ con $\\theta$, e si ottiene:\n",
    "$$\\frac{\\mathrm{d}^2\\theta}{\\mathrm{d}t^2}+\\frac{g}{L}\\theta=0$$ che (ponendo $\\omega^2 = g/L $) ammette la soluzione:     \n",
    "$$\\theta = \\theta_0 \\sin (\\omega t + \\varphi )$$\n",
    "* Il moto è quindi periodico con periodo \n",
    "$$T=2\\pi\\sqrt{\\frac{L}{g}}$$\n",
    "\n",
    "### ESECUZIONE DELL’ESPERIENZA ###\n",
    "\n",
    "* Per avere angoli < $7^\\circ$, spostare la sferetta dalla posizione di equilibrio di una distanza pari ad $\\frac{1}{10}$ del valore di $L$ scelto. In questo modo $\\theta = \\arctan \\frac{1}{10 } = 5.7^\\circ$.\n",
    "* La misura del periodo di oscillazione viene eseguita con un cronometro, misurando il tempo di $n$ ($\\ge 5$) oscillazioni, e dividendo il risultato ottenuto per $n$.\n",
    "* Si esegue la misura del raggio della sferetta $r$, della lunghezza del filo $l$ e si determina la lunghezza $L=r+l$ del pendolo, valutando l’incertezza $\\Delta L$ di tale stima.\n",
    "* Si esegue un elevato numero di misure (circa 100) del periodo $T$ di oscillazione del pendolo, per un valore fissato della lunghezza $L$ (Obiettivo 1).\n",
    "* Si esegue un numero adeguato di misure ($\\ge 5$) del periodo $T$ di oscillazione del pendolo per diversi (almeno 5) valori di lunghezza $L$ (Obiettivo 2)."
   ]
  },
  {
   "cell_type": "code",
   "execution_count": null,
   "metadata": {
    "collapsed": true
   },
   "outputs": [],
   "source": [
    "### Analisi dei dati ###"
   ]
  },
  {
   "cell_type": "code",
   "execution_count": 2,
   "metadata": {},
   "outputs": [
    {
     "name": "stdout",
     "output_type": "stream",
     "text": [
      "Populating the interactive namespace from numpy and matplotlib\n"
     ]
    }
   ],
   "source": [
    "# Carico le librerie matematiche, grafiche e statistiche.\n",
    "# Eseguire questa cella ad ogni avvio del notebook.\n",
    "\n",
    "%pylab inline\n",
    "\n",
    "from scipy import stats"
   ]
  },
  {
   "cell_type": "markdown",
   "metadata": {},
   "source": [
    "# Obiettivo 1"
   ]
  },
  {
   "cell_type": "code",
   "execution_count": 3,
   "metadata": {},
   "outputs": [
    {
     "name": "stdout",
     "output_type": "stream",
     "text": [
      "T = 1.903 +/- 0.001 \n"
     ]
    }
   ],
   "source": [
    "# Inserire qui il vettore T contenente le misure sperimentali del periodo del pendolo [s]:\n",
    "\n",
    "\n",
    "T = array([1.89,\n",
    "1.89,\n",
    "1.88,\n",
    "1.862,\n",
    "1.886,\n",
    "1.88,\n",
    "1.89,\n",
    "1.886,\n",
    "1.892,\n",
    "1.87,\n",
    "1.92,\n",
    "1.906,\n",
    "1.912,\n",
    "1.882,\n",
    "1.92,\n",
    "1.89,\n",
    "1.92,\n",
    "1.902,\n",
    "1.93,\n",
    "1.912,\n",
    "1.9,\n",
    "1.894,\n",
    "1.87,\n",
    "1.89,\n",
    "1.902,\n",
    "1.902,\n",
    "1.912,\n",
    "1.9,\n",
    "1.896,\n",
    "1.902,\n",
    "1.882,\n",
    "1.904,\n",
    "1.906,\n",
    "1.886,\n",
    "1.882,\n",
    "1.9,\n",
    "1.922,\n",
    "1.892,\n",
    "1.902,\n",
    "1.912,\n",
    "1.89,\n",
    "1.886,\n",
    "1.91,\n",
    "1.9,\n",
    "1.91,\n",
    "1.902,\n",
    "1.896,\n",
    "1.902,\n",
    "1.876,\n",
    "1.902,\n",
    "1.91,\n",
    "1.896,\n",
    "1.89,\n",
    "1.9,\n",
    "1.91,\n",
    "1.896,\n",
    "1.906,\n",
    "1.922,\n",
    "1.906,\n",
    "1.91,\n",
    "1.906,\n",
    "1.91,\n",
    "1.902,\n",
    "1.89,\n",
    "1.916,\n",
    "1.922,\n",
    "1.936,\n",
    "1.902,\n",
    "1.896,\n",
    "1.906,\n",
    "1.906,\n",
    "1.906,\n",
    "1.922,\n",
    "1.932,\n",
    "1.926,\n",
    "1.906,\n",
    "1.902,\n",
    "1.912,\n",
    "1.922,\n",
    "1.912,\n",
    "1.912,\n",
    "1.92,\n",
    "1.91,\n",
    "1.916,\n",
    "1.9,\n",
    "1.91,\n",
    "1.91,\n",
    "1.902,\n",
    "1.88,\n",
    "1.92,\n",
    "1.92,\n",
    "1.916,\n",
    "1.916,\n",
    "1.91,\n",
    "1.886,\n",
    "1.91,\n",
    "1.902,\n",
    "1.9,\n",
    "1.892,\n",
    "1.908\n",
    "])\n",
    "\n",
    "N       = len(T)                         # calcolo la lunghezza del vettore T, cioè il numero di misure effettuate\n",
    "\n",
    "Tmedio  = mean(T)  \n",
    "Tstd  = std(T)\n",
    "Terr    = std(T) / sqrt(N-1)\n",
    "\n",
    "print('T = %4.3f +/- %4.3f ' % (Tmedio,Terr))"
   ]
  },
  {
   "cell_type": "code",
   "execution_count": 4,
   "metadata": {},
   "outputs": [
    {
     "name": "stdout",
     "output_type": "stream",
     "text": [
      "g = 9.94 +/- 0.01 m/s**2  (errore stimato direttamente)\n"
     ]
    }
   ],
   "source": [
    "# Genero un vettore di valori di g calcolati a partire dalle misure di T usando la formula teorica\n",
    "# nella quale qui per esempio ho posto L=1\n",
    "# Eseguo poi una stima diretta dell'errore su g \n",
    "\n",
    "L = 0.911   # m\n",
    "g=4*pi**2*L/T**2\n",
    "gmedio=mean(g)\n",
    "gerr=std(g) / sqrt(N-1)\n",
    "print('g = %4.2f +/- %4.2f m/s**2  (errore stimato direttamente)' % (gmedio,gerr))"
   ]
  },
  {
   "cell_type": "code",
   "execution_count": 10,
   "metadata": {
    "scrolled": true
   },
   "outputs": [
    {
     "data": {
      "text/plain": [
       "[<matplotlib.lines.Line2D at 0x7f090db8ff60>]"
      ]
     },
     "execution_count": 10,
     "metadata": {},
     "output_type": "execute_result"
    },
    {
     "data": {
      "image/png": "[encoded data removed]",
      "text/plain": [
       "<matplotlib.figure.Figure at 0x7f090de9d630>"
      ]
     },
     "metadata": {},
     "output_type": "display_data"
    }
   ],
   "source": [
    "# Creo una suddivisione dell'intervallo [Tmin, Tmax] in bin di ampiezza dT\n",
    "# Traslo tutti i bin di dT/2 per centrarli\n",
    "Tmin = 1.8\n",
    "Tmax = 2.0\n",
    "dT = 0.01\n",
    "bins = arange(Tmin, Tmax, dT) + dT/2\n",
    "\n",
    "# Creo un istogramma delle misure\n",
    "# (si noti la differenza tra normed=True e normed=False)\n",
    "\n",
    "hist(T,bins,normed=True)\n",
    "\n",
    "# Sovrappongo all'istogramma il grafico della funzione a campana di Gauss\n",
    "x = linspace(Tmin, Tmax, 200)\n",
    "plot(x, stats.norm.pdf(x,loc=Tmedio,scale=Tstd),'r',linewidth=4)"
   ]
  },
  {
   "cell_type": "markdown",
   "metadata": {},
   "source": [
    "# Obiettivo 2"
   ]
  },
  {
   "cell_type": "markdown",
   "metadata": {},
   "source": [
    "### Fit Lineare\n",
    "Descriviamo qui come effettuare un fit dei coefficienti $A$ e $B$ nella funzione $y= A+ B x$, seconda la procedura dei minimi quadrati. \n",
    "Siano $x_i,y_i$,con $i=1,\\ldots,n$, i punti sperimentali, e definiamo  la funzione di costo\n",
    "\n",
    "$$ f(A,B) = \\sum_{i=1}^n (A + B x_i - y_i)^2 $$ \n",
    "\n",
    "I valori ottimali di $A$ e $B$ sono ottenuti risolvendo il sistema di equazioni \n",
    "\n",
    "$$ \\frac{\\partial f}{\\partial A} = 0;\\qquad \\frac{\\partial f}{\\partial B} = 0 $$\n",
    "\n",
    "Introducendo i simboli\n",
    "\n",
    "$$ \\langle x\\rangle = \\frac{1}{n}\\sum_{i=1}^nx_i,\\quad\n",
    "\\langle x^2\\rangle = \\frac{1}{n}\\sum_{i=1}^nx_i^2,\\quad\n",
    "\\langle x y\\rangle = \\frac{1}{n}\\sum_{i=1}^nx_i y_i,\\quad\\mathrm{etc.}$$\n",
    "\n",
    "la soluzione del sistema è data da\n",
    "\n",
    "$$\n",
    "A=\\frac{\\langle x^2\\rangle\\langle  y\\rangle-\\langle x y\\rangle\\langle x\\rangle}{\\sigma^2_x};\\qquad\n",
    "B=\\frac{\\langle xy\\rangle-\\langle x\\rangle\\langle y\\rangle}{\\sigma^2_x},\n",
    "$$\n",
    "con \n",
    "$$ \\sigma^2_x = \\langle x^2\\rangle-\\langle x\\rangle^2$$\n",
    "\n",
    "L'errore sui paramtetri fittati è stimato da\n",
    "$$\n",
    "\\sigma_A = \\sqrt{\\frac{\\langle x^2\\rangle}{n\\sigma_x^2}}\\,\\sigma_y,\\qquad\n",
    "\\sigma_B = \\sqrt{\\frac{1}{n\\sigma_x^2}}\\,\\sigma_y\n",
    "$$\n",
    "con \n",
    "$$ \\sigma_y^2= \\frac{1}{n-2}\\sum_i (A + B x_i -y_i)^2$$"
   ]
  },
  {
   "cell_type": "code",
   "execution_count": 18,
   "metadata": {
    "collapsed": true
   },
   "outputs": [],
   "source": [
    "def fit_lineare(x,y):                     \n",
    "    \"\"\"\n",
    "    Questa funzione restituisce termine noto e coefficiente angolare della retta \n",
    "    interpolante y = A + Bx ed il relativo errore\n",
    "    \"\"\"\n",
    "   \n",
    "    mx = mean(x)\n",
    "    #COMPLETARE LA FUNZIONE\n",
    "\n",
    "    return A, dA, B, dB"
   ]
  },
  {
   "cell_type": "markdown",
   "metadata": {},
   "source": [
    "### Determinazione di $g$"
   ]
  },
  {
   "cell_type": "code",
   "execution_count": 27,
   "metadata": {},
   "outputs": [
    {
     "name": "stdout",
     "output_type": "stream",
     "text": [
      "       L     T\n",
      "0  0.855  1.86\n",
      "1  0.790  1.77\n",
      "2  0.725  1.68\n",
      "3  0.660  1.62\n",
      "4  0.595  1.54\n"
     ]
    },
    {
     "data": {
      "text/plain": [
       "[<matplotlib.lines.Line2D at 0x7fde6a7ca4e0>]"
      ]
     },
     "execution_count": 27,
     "metadata": {},
     "output_type": "execute_result"
    },
    {
     "data": {
      "image/png": "[encoded data removed]",
      "text/plain": [
       "<matplotlib.figure.Figure at 0x7fde6a89ada0>"
      ]
     },
     "metadata": {},
     "output_type": "display_data"
    }
   ],
   "source": [
    "# Metodo dei minimi quadrati\n",
    "\n",
    "from pandas import DataFrame\n",
    "# Inserire qui i valori sperimentali:\n",
    "L    = array([0.855,0.790,0.725,0.660,0.595])\n",
    "T    = array([1.86,1.77,1.68,1.62,1.54])\n",
    "data={'L':L,'T':T}\n",
    "df=DataFrame(data)\n",
    "print(df)\n",
    "\n",
    "plot(L,T**2,'o')\n",
    "\n",
    "A, dA, B, dB = fit_lineare(L,T**2)\n",
    "\n",
    "plot(L,B*L+A)"
   ]
  },
  {
   "cell_type": "code",
   "execution_count": 26,
   "metadata": {},
   "outputs": [
    {
     "ename": "SyntaxError",
     "evalue": "invalid syntax (<ipython-input-26-c66c8f153b5f>, line 2)",
     "output_type": "error",
     "traceback": [
      "\u001b[0;36m  File \u001b[0;32m\"<ipython-input-26-c66c8f153b5f>\"\u001b[0;36m, line \u001b[0;32m2\u001b[0m\n\u001b[0;31m    g =\u001b[0m\n\u001b[0m                   ^\u001b[0m\n\u001b[0;31mSyntaxError\u001b[0m\u001b[0;31m:\u001b[0m invalid syntax\n"
     ]
    }
   ],
   "source": [
    "# Calcola g e la sua incertezza dg a partire dai coefficienti del fit A,B,dA,dB\n",
    "g =            \n",
    "dg =           \n",
    "print('accelerazione di gravità misurata: g = %4.2f' % (g, dg))"
   ]
  }
 ],
 "metadata": {
  "kernelspec": {
   "display_name": "Python 3",
   "language": "python",
   "name": "python3"
  },
  "language_info": {
   "codemirror_mode": {
    "name": "ipython",
    "version": 3
   },
   "file_extension": ".py",
   "mimetype": "text/x-python",
   "name": "python",
   "nbconvert_exporter": "python",
   "pygments_lexer": "ipython3",
   "version": "3.6.0"
  }
 },
 "nbformat": 4,
 "nbformat_minor": 1
}
