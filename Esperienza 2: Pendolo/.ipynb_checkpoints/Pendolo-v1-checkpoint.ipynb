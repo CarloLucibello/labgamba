{
 "cells": [
  {
   "cell_type": "markdown",
   "metadata": {},
   "source": [
    "PENDOLO SEMPLICE\n",
    "================\n",
    "\n",
    "### SCOPI PRINCIPALI DELL’ESPERIENZA ###\n",
    "\n",
    "* Verificare che misure ripetute ottenute in presenza di incertezze casuali si distribuiscono secondo la distribuzione normale (gaussiana).\n",
    "* Determinare il valore dell’accelerazione di gravità.\n",
    "\n",
    "### PRINCIPI FISICI SU CUI SI BASA L’ESPERIENZA ###\n",
    "\n",
    "* Il *pendolo semplice* è costituito da un punto materiale di massa $m$ appeso a un supporto per mezzo di un filo inestensibile e di massa trascurabile. La posizione di equilibrio statico è quella in cui il filo è verticale e la massa è nella posizione più bassa. Se allontanato dalla posizione di equilibrio il punto inizia ad oscillare nel piano verticale lungo un arco di circonferenza.\n",
    "* Sulla massa $m$ agiscono la tensione del filo $\\mathbf{T}_\\mathrm{filo}$ e la forza peso $m \\mathbf{g}$. L’equazione del moto è quindi:\n",
    "$$ \\mathbf{T}_\\mathrm{filo} + m \\mathbf{g} = m \\mathbf{a} $$\n",
    "* La massa $m$ oscilla lungo un arco di circonferenza di raggio $L$. La proiezione dell'equazione del moto lungo la direzione tangente alla traiettoria è:\n",
    "$$ - m g \\sin \\theta = m a_\\theta= m L \\frac{\\mathrm{d}^2\\theta}{\\mathrm{d}t^2}$$\n",
    "* Se le oscillazioni sono piccole ($\\theta\\lesssim 0.122\\, \\mathrm{rad}\\simeq 7^\\circ$), si può approssimare $\\sin \\theta$ con $\\theta$, e si ottiene:\n",
    "$$\\frac{\\mathrm{d}^2\\theta}{\\mathrm{d}t^2}+\\frac{g}{L}\\theta=0$$ che (ponendo $\\omega^2 = g/L $) ammette la soluzione:     \n",
    "$$\\theta = \\theta_0 \\sin (\\omega t + \\varphi )$$\n",
    "* Il moto è quindi periodico con periodo \n",
    "$$T=2\\pi\\sqrt{\\frac{L}{g}}$$\n",
    "\n",
    "### ESECUZIONE DELL’ESPERIENZA ###\n",
    "\n",
    "* Per avere angoli < $7^\\circ$, spostare la sferetta dalla posizione di equilibrio di una distanza pari ad $\\frac{1}{10}$ del valore di $L$ scelto. In questo modo $\\theta = \\arctan \\frac{1}{10 } = 5.7^\\circ$.\n",
    "* La misura del periodo di oscillazione viene eseguita con un cronometro, misurando il tempo di $n$ ($\\ge 5$) oscillazioni, e dividendo il risultato ottenuto per $n$.\n",
    "* Si esegue la misura del raggio della sferetta $r$, della lunghezza del filo $l$ e si determina la lunghezza $L=r+l$ del pendolo, valutando l’incertezza $\\Delta L$ di tale stima.\n",
    "* Si esegue un elevato numero di misure (circa 100) del periodo $T$ di oscillazione del pendolo, per un valore fissato della lunghezza $L$ (Obiettivo 1).\n",
    "* Si esegue un numero adeguato di misure ($\\ge 5$) del periodo $T$ di oscillazione del pendolo per diversi (almeno 5) valori di lunghezza $L$ (Obiettivo 2)."
   ]
  },
  {
   "cell_type": "code",
   "execution_count": null,
   "metadata": {
    "collapsed": true
   },
   "outputs": [],
   "source": [
    "### Analisi dei dati ###"
   ]
  },
  {
   "cell_type": "code",
   "execution_count": 1,
   "metadata": {},
   "outputs": [
    {
     "name": "stdout",
     "output_type": "stream",
     "text": [
      "Populating the interactive namespace from numpy and matplotlib\n"
     ]
    }
   ],
   "source": [
    "# Carico le librerie matematiche, grafiche e statistiche\n",
    "\n",
    "%pylab inline\n",
    "\n",
    "from scipy import stats"
   ]
  },
  {
   "cell_type": "code",
   "execution_count": 2,
   "metadata": {},
   "outputs": [
    {
     "name": "stdout",
     "output_type": "stream",
     "text": [
      "T = 1.90 +/- 0.01 s\n"
     ]
    }
   ],
   "source": [
    "# Inserire qui il vettore T contenente le misure sperimentali del periodo del pendolo [s]:\n",
    "\n",
    "\n",
    "T = array([1.89,\n",
    "1.89,\n",
    "1.88,\n",
    "1.862,\n",
    "1.886,\n",
    "1.88,\n",
    "1.89,\n",
    "1.886,\n",
    "1.892,\n",
    "1.87,\n",
    "1.92,\n",
    "1.906,\n",
    "1.912,\n",
    "1.882,\n",
    "1.92,\n",
    "1.89,\n",
    "1.92,\n",
    "1.902,\n",
    "1.93,\n",
    "1.912,\n",
    "1.9,\n",
    "1.894,\n",
    "1.87,\n",
    "1.89,\n",
    "1.902,\n",
    "1.902,\n",
    "1.912,\n",
    "1.9,\n",
    "1.896,\n",
    "1.902,\n",
    "1.882,\n",
    "1.904,\n",
    "1.906,\n",
    "1.886,\n",
    "1.882,\n",
    "1.9,\n",
    "1.922,\n",
    "1.892,\n",
    "1.902,\n",
    "1.912,\n",
    "1.89,\n",
    "1.886,\n",
    "1.91,\n",
    "1.9,\n",
    "1.91,\n",
    "1.902,\n",
    "1.896,\n",
    "1.902,\n",
    "1.876,\n",
    "1.902,\n",
    "1.91,\n",
    "1.896,\n",
    "1.89,\n",
    "1.9,\n",
    "1.91,\n",
    "1.896,\n",
    "1.906,\n",
    "1.922,\n",
    "1.906,\n",
    "1.91,\n",
    "1.906,\n",
    "1.91,\n",
    "1.902,\n",
    "1.89,\n",
    "1.916,\n",
    "1.922,\n",
    "1.936,\n",
    "1.902,\n",
    "1.896,\n",
    "1.906,\n",
    "1.906,\n",
    "1.906,\n",
    "1.922,\n",
    "1.932,\n",
    "1.926,\n",
    "1.906,\n",
    "1.902,\n",
    "1.912,\n",
    "1.922,\n",
    "1.912,\n",
    "1.912,\n",
    "1.92,\n",
    "1.91,\n",
    "1.916,\n",
    "1.9,\n",
    "1.91,\n",
    "1.91,\n",
    "1.902,\n",
    "1.88,\n",
    "1.92,\n",
    "1.92,\n",
    "1.916,\n",
    "1.916,\n",
    "1.91,\n",
    "1.886,\n",
    "1.91,\n",
    "1.902,\n",
    "1.9,\n",
    "1.892,\n",
    "1.908\n",
    "])\n",
    "\n",
    "N       = len(T)                         # calcolo la lunghezza del vettore T, cioè il numero di misure effettuate\n",
    "\n",
    "Tmedio  = mean(T)                        \n",
    "Tstd    = std(T)\n",
    "\n",
    "print 'T = %4.2f +/- %4.2f s'%(Tmedio,Tstd)"
   ]
  },
  {
   "cell_type": "code",
   "execution_count": 3,
   "metadata": {},
   "outputs": [
    {
     "name": "stdout",
     "output_type": "stream",
     "text": [
      "g = 9.94 +/- 0.15 m/s**2  (errore stimato direttamente)\n"
     ]
    }
   ],
   "source": [
    "# Genero un vettore di valori di g calcolati a partire dalle misure di T usando la formula teorica\n",
    "# nella quale qui per esempio ho posto L=1\n",
    "# Eseguo poi una stima diretta dell'errore su g \n",
    "\n",
    "L = 0.911   # m\n",
    "g=4*pi**2*L/T**2\n",
    "gmedio=mean(g)\n",
    "gstd=std(g)\n",
    "print 'g = %4.2f +/- %4.2f m/s**2  (errore stimato direttamente)'%(gmedio,gstd)"
   ]
  },
  {
   "cell_type": "code",
   "execution_count": 5,
   "metadata": {
    "scrolled": false
   },
   "outputs": [
    {
     "data": {
      "image/png": "[encoded data removed]",
      "text/plain": [
       "<matplotlib.figure.Figure at 0x7f86e1302250>"
      ]
     },
     "metadata": {},
     "output_type": "display_data"
    }
   ],
   "source": [
    "# Creo una suddivisione dell'intervallo [0,A] in classi di ampiezza dT=0.15\n",
    "# traslo tutte le classi di dT/2 per centrarle rispetto all'origine\n",
    "\n",
    "dT    = 0.01\n",
    "# ampiezza delle classi\n",
    "A     = 2*Tmedio                         # ampiezza dell'intervallo [0,A]\n",
    "bins  = arange(1.8,2.0,dT)+dT/2.             # estremi delle classi\n",
    "\n",
    "# Creo un istogramma delle misure\n",
    "# (si noti la differenza tra normed=True e normed=False)\n",
    "\n",
    "hist(T,bins,normed=True)\n",
    "\n",
    "# Sovrappongo all'istogramma il grafico della funzione a campana di Gauss\n",
    "\n",
    "x     = linspace(1.8,2.0,200)\n",
    "plot(x,stats.norm.pdf(x,loc=Tmedio,scale=Tstd),'r',linewidth=4)\n",
    "\n",
    "savefig('istogramma_T5.pdf')                # salvo la figura con l'istogramma"
   ]
  },
  {
   "cell_type": "code",
   "execution_count": 45,
   "metadata": {},
   "outputs": [
    {
     "name": "stdout",
     "output_type": "stream",
     "text": [
      "accelerazione di gravità misurata: g = 9.56\n"
     ]
    },
    {
     "data": {
      "image/png": "[encoded data removed]",
      "text/plain": [
       "<matplotlib.figure.Figure at 0x7f122119c250>"
      ]
     },
     "metadata": {},
     "output_type": "display_data"
    }
   ],
   "source": [
    "# Metodo dei minimi quadrati\n",
    "\n",
    "# Inserire qui i valori sperimentali:\n",
    "\n",
    "L    = array([0.855,0.790,0.725,0.660,0.595])\n",
    "T    = array([1.86,1.77,1.68,1.62,1.54])\n",
    "\n",
    "plot(L,T**2,'o')\n",
    "\n",
    "from scipy.stats import linregress\n",
    "\n",
    "m,q,r,p,stderr=linregress(L,T**2)\n",
    "\n",
    "plot(L,m*L+q)\n",
    "\n",
    "gmes  = 4*pi**2/m\n",
    "print 'accelerazione di gravità misurata: g = %4.2f'%gmes\n",
    "\n",
    "# Calcolare l'incertezza su g utilizzando le formule di propagazione dell'incertezza riportate nella scheda"
   ]
  },
  {
   "cell_type": "code",
   "execution_count": 46,
   "metadata": {},
   "outputs": [],
   "source": [
    "?linregress"
   ]
  },
  {
   "cell_type": "code",
   "execution_count": 49,
   "metadata": {},
   "outputs": [
    {
     "data": {
      "text/html": [
       "<div>\n",
       "<table border=\"1\" class=\"dataframe\">\n",
       "  <thead>\n",
       "    <tr style=\"text-align: right;\">\n",
       "      <th></th>\n",
       "      <th>L</th>\n",
       "      <th>T</th>\n",
       "    </tr>\n",
       "  </thead>\n",
       "  <tbody>\n",
       "    <tr>\n",
       "      <th>0</th>\n",
       "      <td>0.855</td>\n",
       "      <td>1.86</td>\n",
       "    </tr>\n",
       "    <tr>\n",
       "      <th>1</th>\n",
       "      <td>0.790</td>\n",
       "      <td>1.77</td>\n",
       "    </tr>\n",
       "    <tr>\n",
       "      <th>2</th>\n",
       "      <td>0.725</td>\n",
       "      <td>1.68</td>\n",
       "    </tr>\n",
       "    <tr>\n",
       "      <th>3</th>\n",
       "      <td>0.660</td>\n",
       "      <td>1.62</td>\n",
       "    </tr>\n",
       "    <tr>\n",
       "      <th>4</th>\n",
       "      <td>0.595</td>\n",
       "      <td>1.54</td>\n",
       "    </tr>\n",
       "  </tbody>\n",
       "</table>\n",
       "</div>"
      ],
      "text/plain": [
       "       L     T\n",
       "0  0.855  1.86\n",
       "1  0.790  1.77\n",
       "2  0.725  1.68\n",
       "3  0.660  1.62\n",
       "4  0.595  1.54"
      ]
     },
     "execution_count": 49,
     "metadata": {},
     "output_type": "execute_result"
    }
   ],
   "source": [
    "from pandas import DataFrame\n",
    "data={'L':L,'T':T}\n",
    "df=DataFrame(data)\n",
    "df"
   ]
  },
  {
   "cell_type": "code",
   "execution_count": null,
   "metadata": {
    "collapsed": true
   },
   "outputs": [],
   "source": []
  }
 ],
 "metadata": {
  "kernelspec": {
   "display_name": "Python 3",
   "language": "python",
   "name": "python3"
  },
  "language_info": {
   "codemirror_mode": {
    "name": "ipython",
    "version": 3
   },
   "file_extension": ".py",
   "mimetype": "text/x-python",
   "name": "python",
   "nbconvert_exporter": "python",
   "pygments_lexer": "ipython3",
   "version": "3.6.0"
  }
 },
 "nbformat": 4,
 "nbformat_minor": 1
}
